{
  "nbformat": 4,
  "nbformat_minor": 0,
  "metadata": {
    "colab": {
      "provenance": [],
      "collapsed_sections": [
        "lNflGrZYVjn0"
      ]
    },
    "kernelspec": {
      "name": "python3",
      "display_name": "Python 3"
    },
    "language_info": {
      "name": "python"
    }
  },
  "cells": [
    {
      "cell_type": "markdown",
      "source": [
        "# Após quatro meses de queda, atendimentos por síndrome gripal nas UPAs em novembro de 2022, até dia 26, quase dobram em relação a outubro\n",
        "### Quantidade de consultas teve aumento de 87,9%. Ao todo, 65,1% dos atendimentos do mês tiveram classificação de risco verde, considerada pouco urgente\n",
        "\n",
        "---\n",
        "\n",
        "Este levantamento foi realizado a partir dos dados fornecidos pela API do IntegraSUS, plataforma da Secretaria da Saúde do Estado do Ceará (Sesa). Eles consideram informações das seguintes Unidades de Pronto Atendimento: 'UPA Autran Nunes', 'UPA Bom Jardim', 'UPA Canindezinho', 'UPA Conjunto Ceará', 'UPA Cristo Redentor', 'UPA Edson Queiroz', 'UPA Itaperi', 'UPA Jangurussu', 'UPA José Walter', 'UPA Messejana', 'UPA Praia Do Futuro', 'UPA Vila Velha'\n",
        "\n",
        "Em meio a novo crescimento dos casos de Covid-19 e o surgimento da 5ª onda da pandemia no Ceará, é relevante que a imprensa acompanhe os dados oficiais sobre a doença local e nacionalmente.\n"
      ],
      "metadata": {
        "id": "AmTAOFow3WHr"
      }
    },
    {
      "cell_type": "code",
      "execution_count": 1,
      "metadata": {
        "id": "TxOa9ycJPfPY"
      },
      "outputs": [],
      "source": [
        "import pandas as pd"
      ]
    },
    {
      "cell_type": "code",
      "source": [
        "atendimentos = 'https://integrasus.saude.ce.gov.br/api/acompanhamento-casos-upas/serie-historica-atendimentos?dataInicio=2020-01-01&dataFim=2022-11-26&tipo=&upa=&cid=&classificacaoRisco='"
      ],
      "metadata": {
        "id": "pMu9Xmp4PmUi"
      },
      "execution_count": 2,
      "outputs": []
    },
    {
      "cell_type": "code",
      "source": [
        "classificacao_risco = 'https://integrasus.saude.ce.gov.br/api/acompanhamento-casos-upas/classificacao-risco?dataInicio=2020-01-01&dataFim=2022-11-26&tipo=&upa=&cid=&classificacaoRisco='"
      ],
      "metadata": {
        "id": "HUnReI6jVaiC"
      },
      "execution_count": 3,
      "outputs": []
    },
    {
      "cell_type": "code",
      "source": [
        "df_atendimentos = pd.read_json(atendimentos)\n",
        "df_classificacao = pd.read_json(classificacao_risco)"
      ],
      "metadata": {
        "id": "xicKeduCPtSg"
      },
      "execution_count": 4,
      "outputs": []
    },
    {
      "cell_type": "code",
      "source": [
        "# salvar arquivos em csv\n",
        "df_atendimentos.to_csv('df_atendimentos.csv', index=False)\n",
        "df_classificacao.to_csv('df_classificacao.csv', index=False)"
      ],
      "metadata": {
        "id": "JHEtdchO8Gze"
      },
      "execution_count": 5,
      "outputs": []
    },
    {
      "cell_type": "markdown",
      "source": [
        "# Atendimentos"
      ],
      "metadata": {
        "id": "lNflGrZYVjn0"
      }
    },
    {
      "cell_type": "code",
      "source": [
        "df_atendimentos['dia'] = df_atendimentos['data'].str.split(pat='/', expand=True)[0]\n",
        "df_atendimentos['mes'] = df_atendimentos['data'].str.split(pat='/', expand=True)[1]\n",
        "df_atendimentos['ano'] = df_atendimentos['data'].str.split(pat='/', expand=True)[2]"
      ],
      "metadata": {
        "id": "fxF27ZLUP104"
      },
      "execution_count": 6,
      "outputs": []
    },
    {
      "cell_type": "code",
      "source": [
        "meses = {\n",
        "    '01': 'janeiro',\n",
        "    '02': 'fevereiro',\n",
        "    '03': 'março',\n",
        "    '04': 'abril',\n",
        "    '05': 'maio',\n",
        "    '06': 'junho',\n",
        "    '07': 'julho',\n",
        "    '08': 'agosto',\n",
        "    '09': 'setembro',\n",
        "    '10': 'outubro',\n",
        "    '11': 'novembro',\n",
        "    '12': 'dezembro'\n",
        "}"
      ],
      "metadata": {
        "id": "KluZIswo179T"
      },
      "execution_count": 7,
      "outputs": []
    },
    {
      "cell_type": "code",
      "source": [
        "atendimentos_mes = df_atendimentos[['mes', 'ano', 'quantidade']].groupby(['mes', 'ano']).sum().reset_index().sort_values(['ano', 'mes'])\n",
        "atendimentos_mes['ds_mes'] = atendimentos_mes['mes'].replace(meses)"
      ],
      "metadata": {
        "id": "tLyrTfE-9_67"
      },
      "execution_count": 8,
      "outputs": []
    },
    {
      "cell_type": "code",
      "source": [
        "atendimentos_mes = atendimentos_mes[['ano', 'mes', 'ds_mes', 'quantidade']]\n",
        "atendimentos_mes.tail()"
      ],
      "metadata": {
        "colab": {
          "base_uri": "https://localhost:8080/",
          "height": 206
        },
        "id": "ciMMsSxfNUEV",
        "outputId": "08d7ad24-ffb0-49df-e1d0-4b6f92f3f1c1"
      },
      "execution_count": 9,
      "outputs": [
        {
          "output_type": "execute_result",
          "data": {
            "text/plain": [
              "     ano mes    ds_mes  quantidade\n",
              "20  2022  07     julho       12763\n",
              "23  2022  08    agosto        8195\n",
              "26  2022  09  setembro        7076\n",
              "29  2022  10   outubro        5921\n",
              "32  2022  11  novembro       11125"
            ],
            "text/html": [
              "\n",
              "  <div id=\"df-3c851914-0aa2-4379-8feb-a5442d1e1a8b\">\n",
              "    <div class=\"colab-df-container\">\n",
              "      <div>\n",
              "<style scoped>\n",
              "    .dataframe tbody tr th:only-of-type {\n",
              "        vertical-align: middle;\n",
              "    }\n",
              "\n",
              "    .dataframe tbody tr th {\n",
              "        vertical-align: top;\n",
              "    }\n",
              "\n",
              "    .dataframe thead th {\n",
              "        text-align: right;\n",
              "    }\n",
              "</style>\n",
              "<table border=\"1\" class=\"dataframe\">\n",
              "  <thead>\n",
              "    <tr style=\"text-align: right;\">\n",
              "      <th></th>\n",
              "      <th>ano</th>\n",
              "      <th>mes</th>\n",
              "      <th>ds_mes</th>\n",
              "      <th>quantidade</th>\n",
              "    </tr>\n",
              "  </thead>\n",
              "  <tbody>\n",
              "    <tr>\n",
              "      <th>20</th>\n",
              "      <td>2022</td>\n",
              "      <td>07</td>\n",
              "      <td>julho</td>\n",
              "      <td>12763</td>\n",
              "    </tr>\n",
              "    <tr>\n",
              "      <th>23</th>\n",
              "      <td>2022</td>\n",
              "      <td>08</td>\n",
              "      <td>agosto</td>\n",
              "      <td>8195</td>\n",
              "    </tr>\n",
              "    <tr>\n",
              "      <th>26</th>\n",
              "      <td>2022</td>\n",
              "      <td>09</td>\n",
              "      <td>setembro</td>\n",
              "      <td>7076</td>\n",
              "    </tr>\n",
              "    <tr>\n",
              "      <th>29</th>\n",
              "      <td>2022</td>\n",
              "      <td>10</td>\n",
              "      <td>outubro</td>\n",
              "      <td>5921</td>\n",
              "    </tr>\n",
              "    <tr>\n",
              "      <th>32</th>\n",
              "      <td>2022</td>\n",
              "      <td>11</td>\n",
              "      <td>novembro</td>\n",
              "      <td>11125</td>\n",
              "    </tr>\n",
              "  </tbody>\n",
              "</table>\n",
              "</div>\n",
              "      <button class=\"colab-df-convert\" onclick=\"convertToInteractive('df-3c851914-0aa2-4379-8feb-a5442d1e1a8b')\"\n",
              "              title=\"Convert this dataframe to an interactive table.\"\n",
              "              style=\"display:none;\">\n",
              "        \n",
              "  <svg xmlns=\"http://www.w3.org/2000/svg\" height=\"24px\"viewBox=\"0 0 24 24\"\n",
              "       width=\"24px\">\n",
              "    <path d=\"M0 0h24v24H0V0z\" fill=\"none\"/>\n",
              "    <path d=\"M18.56 5.44l.94 2.06.94-2.06 2.06-.94-2.06-.94-.94-2.06-.94 2.06-2.06.94zm-11 1L8.5 8.5l.94-2.06 2.06-.94-2.06-.94L8.5 2.5l-.94 2.06-2.06.94zm10 10l.94 2.06.94-2.06 2.06-.94-2.06-.94-.94-2.06-.94 2.06-2.06.94z\"/><path d=\"M17.41 7.96l-1.37-1.37c-.4-.4-.92-.59-1.43-.59-.52 0-1.04.2-1.43.59L10.3 9.45l-7.72 7.72c-.78.78-.78 2.05 0 2.83L4 21.41c.39.39.9.59 1.41.59.51 0 1.02-.2 1.41-.59l7.78-7.78 2.81-2.81c.8-.78.8-2.07 0-2.86zM5.41 20L4 18.59l7.72-7.72 1.47 1.35L5.41 20z\"/>\n",
              "  </svg>\n",
              "      </button>\n",
              "      \n",
              "  <style>\n",
              "    .colab-df-container {\n",
              "      display:flex;\n",
              "      flex-wrap:wrap;\n",
              "      gap: 12px;\n",
              "    }\n",
              "\n",
              "    .colab-df-convert {\n",
              "      background-color: #E8F0FE;\n",
              "      border: none;\n",
              "      border-radius: 50%;\n",
              "      cursor: pointer;\n",
              "      display: none;\n",
              "      fill: #1967D2;\n",
              "      height: 32px;\n",
              "      padding: 0 0 0 0;\n",
              "      width: 32px;\n",
              "    }\n",
              "\n",
              "    .colab-df-convert:hover {\n",
              "      background-color: #E2EBFA;\n",
              "      box-shadow: 0px 1px 2px rgba(60, 64, 67, 0.3), 0px 1px 3px 1px rgba(60, 64, 67, 0.15);\n",
              "      fill: #174EA6;\n",
              "    }\n",
              "\n",
              "    [theme=dark] .colab-df-convert {\n",
              "      background-color: #3B4455;\n",
              "      fill: #D2E3FC;\n",
              "    }\n",
              "\n",
              "    [theme=dark] .colab-df-convert:hover {\n",
              "      background-color: #434B5C;\n",
              "      box-shadow: 0px 1px 3px 1px rgba(0, 0, 0, 0.15);\n",
              "      filter: drop-shadow(0px 1px 2px rgba(0, 0, 0, 0.3));\n",
              "      fill: #FFFFFF;\n",
              "    }\n",
              "  </style>\n",
              "\n",
              "      <script>\n",
              "        const buttonEl =\n",
              "          document.querySelector('#df-3c851914-0aa2-4379-8feb-a5442d1e1a8b button.colab-df-convert');\n",
              "        buttonEl.style.display =\n",
              "          google.colab.kernel.accessAllowed ? 'block' : 'none';\n",
              "\n",
              "        async function convertToInteractive(key) {\n",
              "          const element = document.querySelector('#df-3c851914-0aa2-4379-8feb-a5442d1e1a8b');\n",
              "          const dataTable =\n",
              "            await google.colab.kernel.invokeFunction('convertToInteractive',\n",
              "                                                     [key], {});\n",
              "          if (!dataTable) return;\n",
              "\n",
              "          const docLinkHtml = 'Like what you see? Visit the ' +\n",
              "            '<a target=\"_blank\" href=https://colab.research.google.com/notebooks/data_table.ipynb>data table notebook</a>'\n",
              "            + ' to learn more about interactive tables.';\n",
              "          element.innerHTML = '';\n",
              "          dataTable['output_type'] = 'display_data';\n",
              "          await google.colab.output.renderOutput(dataTable, element);\n",
              "          const docLink = document.createElement('div');\n",
              "          docLink.innerHTML = docLinkHtml;\n",
              "          element.appendChild(docLink);\n",
              "        }\n",
              "      </script>\n",
              "    </div>\n",
              "  </div>\n",
              "  "
            ]
          },
          "metadata": {},
          "execution_count": 9
        }
      ]
    },
    {
      "cell_type": "code",
      "source": [
        "atendimentos_mes.to_csv('atendimentos_mes.csv', index=False)"
      ],
      "metadata": {
        "id": "BdoUJX8-M9Tg"
      },
      "execution_count": 10,
      "outputs": []
    },
    {
      "cell_type": "markdown",
      "source": [
        "### atendimento nos três anos"
      ],
      "metadata": {
        "id": "ZdDjQHiTGb_h"
      }
    },
    {
      "cell_type": "code",
      "source": [
        "df_atendimentos_mes_ano = atendimentos_mes.pivot(index=['mes', 'ds_mes'], columns='ano', values='quantidade').reset_index()"
      ],
      "metadata": {
        "id": "5TTGy0BE-Bri"
      },
      "execution_count": 11,
      "outputs": []
    },
    {
      "cell_type": "code",
      "source": [
        "df_atendimentos_mes_ano.tail()"
      ],
      "metadata": {
        "colab": {
          "base_uri": "https://localhost:8080/",
          "height": 206
        },
        "id": "8_v-I299Gk-y",
        "outputId": "ed69b517-eea7-4260-f04b-0816837cb0e4"
      },
      "execution_count": 12,
      "outputs": [
        {
          "output_type": "execute_result",
          "data": {
            "text/plain": [
              "ano mes    ds_mes     2020     2021     2022\n",
              "7    08    agosto   6288.0   9537.0   8195.0\n",
              "8    09  setembro   4460.0   7862.0   7076.0\n",
              "9    10   outubro   6452.0   8518.0   5921.0\n",
              "10   11  novembro   9575.0   6540.0  11125.0\n",
              "11   12  dezembro  11494.0  27847.0      NaN"
            ],
            "text/html": [
              "\n",
              "  <div id=\"df-b882d14c-7cdc-4185-a2a0-a3290c80df56\">\n",
              "    <div class=\"colab-df-container\">\n",
              "      <div>\n",
              "<style scoped>\n",
              "    .dataframe tbody tr th:only-of-type {\n",
              "        vertical-align: middle;\n",
              "    }\n",
              "\n",
              "    .dataframe tbody tr th {\n",
              "        vertical-align: top;\n",
              "    }\n",
              "\n",
              "    .dataframe thead th {\n",
              "        text-align: right;\n",
              "    }\n",
              "</style>\n",
              "<table border=\"1\" class=\"dataframe\">\n",
              "  <thead>\n",
              "    <tr style=\"text-align: right;\">\n",
              "      <th>ano</th>\n",
              "      <th>mes</th>\n",
              "      <th>ds_mes</th>\n",
              "      <th>2020</th>\n",
              "      <th>2021</th>\n",
              "      <th>2022</th>\n",
              "    </tr>\n",
              "  </thead>\n",
              "  <tbody>\n",
              "    <tr>\n",
              "      <th>7</th>\n",
              "      <td>08</td>\n",
              "      <td>agosto</td>\n",
              "      <td>6288.0</td>\n",
              "      <td>9537.0</td>\n",
              "      <td>8195.0</td>\n",
              "    </tr>\n",
              "    <tr>\n",
              "      <th>8</th>\n",
              "      <td>09</td>\n",
              "      <td>setembro</td>\n",
              "      <td>4460.0</td>\n",
              "      <td>7862.0</td>\n",
              "      <td>7076.0</td>\n",
              "    </tr>\n",
              "    <tr>\n",
              "      <th>9</th>\n",
              "      <td>10</td>\n",
              "      <td>outubro</td>\n",
              "      <td>6452.0</td>\n",
              "      <td>8518.0</td>\n",
              "      <td>5921.0</td>\n",
              "    </tr>\n",
              "    <tr>\n",
              "      <th>10</th>\n",
              "      <td>11</td>\n",
              "      <td>novembro</td>\n",
              "      <td>9575.0</td>\n",
              "      <td>6540.0</td>\n",
              "      <td>11125.0</td>\n",
              "    </tr>\n",
              "    <tr>\n",
              "      <th>11</th>\n",
              "      <td>12</td>\n",
              "      <td>dezembro</td>\n",
              "      <td>11494.0</td>\n",
              "      <td>27847.0</td>\n",
              "      <td>NaN</td>\n",
              "    </tr>\n",
              "  </tbody>\n",
              "</table>\n",
              "</div>\n",
              "      <button class=\"colab-df-convert\" onclick=\"convertToInteractive('df-b882d14c-7cdc-4185-a2a0-a3290c80df56')\"\n",
              "              title=\"Convert this dataframe to an interactive table.\"\n",
              "              style=\"display:none;\">\n",
              "        \n",
              "  <svg xmlns=\"http://www.w3.org/2000/svg\" height=\"24px\"viewBox=\"0 0 24 24\"\n",
              "       width=\"24px\">\n",
              "    <path d=\"M0 0h24v24H0V0z\" fill=\"none\"/>\n",
              "    <path d=\"M18.56 5.44l.94 2.06.94-2.06 2.06-.94-2.06-.94-.94-2.06-.94 2.06-2.06.94zm-11 1L8.5 8.5l.94-2.06 2.06-.94-2.06-.94L8.5 2.5l-.94 2.06-2.06.94zm10 10l.94 2.06.94-2.06 2.06-.94-2.06-.94-.94-2.06-.94 2.06-2.06.94z\"/><path d=\"M17.41 7.96l-1.37-1.37c-.4-.4-.92-.59-1.43-.59-.52 0-1.04.2-1.43.59L10.3 9.45l-7.72 7.72c-.78.78-.78 2.05 0 2.83L4 21.41c.39.39.9.59 1.41.59.51 0 1.02-.2 1.41-.59l7.78-7.78 2.81-2.81c.8-.78.8-2.07 0-2.86zM5.41 20L4 18.59l7.72-7.72 1.47 1.35L5.41 20z\"/>\n",
              "  </svg>\n",
              "      </button>\n",
              "      \n",
              "  <style>\n",
              "    .colab-df-container {\n",
              "      display:flex;\n",
              "      flex-wrap:wrap;\n",
              "      gap: 12px;\n",
              "    }\n",
              "\n",
              "    .colab-df-convert {\n",
              "      background-color: #E8F0FE;\n",
              "      border: none;\n",
              "      border-radius: 50%;\n",
              "      cursor: pointer;\n",
              "      display: none;\n",
              "      fill: #1967D2;\n",
              "      height: 32px;\n",
              "      padding: 0 0 0 0;\n",
              "      width: 32px;\n",
              "    }\n",
              "\n",
              "    .colab-df-convert:hover {\n",
              "      background-color: #E2EBFA;\n",
              "      box-shadow: 0px 1px 2px rgba(60, 64, 67, 0.3), 0px 1px 3px 1px rgba(60, 64, 67, 0.15);\n",
              "      fill: #174EA6;\n",
              "    }\n",
              "\n",
              "    [theme=dark] .colab-df-convert {\n",
              "      background-color: #3B4455;\n",
              "      fill: #D2E3FC;\n",
              "    }\n",
              "\n",
              "    [theme=dark] .colab-df-convert:hover {\n",
              "      background-color: #434B5C;\n",
              "      box-shadow: 0px 1px 3px 1px rgba(0, 0, 0, 0.15);\n",
              "      filter: drop-shadow(0px 1px 2px rgba(0, 0, 0, 0.3));\n",
              "      fill: #FFFFFF;\n",
              "    }\n",
              "  </style>\n",
              "\n",
              "      <script>\n",
              "        const buttonEl =\n",
              "          document.querySelector('#df-b882d14c-7cdc-4185-a2a0-a3290c80df56 button.colab-df-convert');\n",
              "        buttonEl.style.display =\n",
              "          google.colab.kernel.accessAllowed ? 'block' : 'none';\n",
              "\n",
              "        async function convertToInteractive(key) {\n",
              "          const element = document.querySelector('#df-b882d14c-7cdc-4185-a2a0-a3290c80df56');\n",
              "          const dataTable =\n",
              "            await google.colab.kernel.invokeFunction('convertToInteractive',\n",
              "                                                     [key], {});\n",
              "          if (!dataTable) return;\n",
              "\n",
              "          const docLinkHtml = 'Like what you see? Visit the ' +\n",
              "            '<a target=\"_blank\" href=https://colab.research.google.com/notebooks/data_table.ipynb>data table notebook</a>'\n",
              "            + ' to learn more about interactive tables.';\n",
              "          element.innerHTML = '';\n",
              "          dataTable['output_type'] = 'display_data';\n",
              "          await google.colab.output.renderOutput(dataTable, element);\n",
              "          const docLink = document.createElement('div');\n",
              "          docLink.innerHTML = docLinkHtml;\n",
              "          element.appendChild(docLink);\n",
              "        }\n",
              "      </script>\n",
              "    </div>\n",
              "  </div>\n",
              "  "
            ]
          },
          "metadata": {},
          "execution_count": 12
        }
      ]
    },
    {
      "cell_type": "code",
      "source": [
        "df_atendimentos_mes_ano.to_csv('df_atendimentos_mes_ano.csv', index=False)"
      ],
      "metadata": {
        "id": "Yv1rOOmJQJ_n"
      },
      "execution_count": 13,
      "outputs": []
    },
    {
      "cell_type": "markdown",
      "source": [
        "### diferença entre os meses"
      ],
      "metadata": {
        "id": "_wks5H6lFuVl"
      }
    },
    {
      "cell_type": "code",
      "source": [
        "atendimentos_mes['diferenca_mes'] = atendimentos_mes['quantidade'].diff()"
      ],
      "metadata": {
        "id": "BRIdJ0Kpymzc"
      },
      "execution_count": 14,
      "outputs": []
    },
    {
      "cell_type": "code",
      "source": [
        "diferenca_atendimentos_mes_ano = atendimentos_mes.pivot(index=['mes', 'ds_mes'], columns='ano', values='diferenca_mes').reset_index()"
      ],
      "metadata": {
        "id": "SgtLi5rI1Myf"
      },
      "execution_count": 15,
      "outputs": []
    },
    {
      "cell_type": "code",
      "source": [
        "diferenca_atendimentos_mes_ano.tail()"
      ],
      "metadata": {
        "colab": {
          "base_uri": "https://localhost:8080/",
          "height": 206
        },
        "id": "qVryJizWHuT2",
        "outputId": "126a1fa2-5781-4959-f5cc-01669a3334b4"
      },
      "execution_count": 16,
      "outputs": [
        {
          "output_type": "execute_result",
          "data": {
            "text/plain": [
              "ano mes    ds_mes    2020     2021    2022\n",
              "7    08    agosto  -917.0  -2406.0 -4568.0\n",
              "8    09  setembro -1828.0  -1675.0 -1119.0\n",
              "9    10   outubro  1992.0    656.0 -1155.0\n",
              "10   11  novembro  3123.0  -1978.0  5204.0\n",
              "11   12  dezembro  1919.0  21307.0     NaN"
            ],
            "text/html": [
              "\n",
              "  <div id=\"df-887c6f6f-188f-4d36-8e6d-a27ad27037d2\">\n",
              "    <div class=\"colab-df-container\">\n",
              "      <div>\n",
              "<style scoped>\n",
              "    .dataframe tbody tr th:only-of-type {\n",
              "        vertical-align: middle;\n",
              "    }\n",
              "\n",
              "    .dataframe tbody tr th {\n",
              "        vertical-align: top;\n",
              "    }\n",
              "\n",
              "    .dataframe thead th {\n",
              "        text-align: right;\n",
              "    }\n",
              "</style>\n",
              "<table border=\"1\" class=\"dataframe\">\n",
              "  <thead>\n",
              "    <tr style=\"text-align: right;\">\n",
              "      <th>ano</th>\n",
              "      <th>mes</th>\n",
              "      <th>ds_mes</th>\n",
              "      <th>2020</th>\n",
              "      <th>2021</th>\n",
              "      <th>2022</th>\n",
              "    </tr>\n",
              "  </thead>\n",
              "  <tbody>\n",
              "    <tr>\n",
              "      <th>7</th>\n",
              "      <td>08</td>\n",
              "      <td>agosto</td>\n",
              "      <td>-917.0</td>\n",
              "      <td>-2406.0</td>\n",
              "      <td>-4568.0</td>\n",
              "    </tr>\n",
              "    <tr>\n",
              "      <th>8</th>\n",
              "      <td>09</td>\n",
              "      <td>setembro</td>\n",
              "      <td>-1828.0</td>\n",
              "      <td>-1675.0</td>\n",
              "      <td>-1119.0</td>\n",
              "    </tr>\n",
              "    <tr>\n",
              "      <th>9</th>\n",
              "      <td>10</td>\n",
              "      <td>outubro</td>\n",
              "      <td>1992.0</td>\n",
              "      <td>656.0</td>\n",
              "      <td>-1155.0</td>\n",
              "    </tr>\n",
              "    <tr>\n",
              "      <th>10</th>\n",
              "      <td>11</td>\n",
              "      <td>novembro</td>\n",
              "      <td>3123.0</td>\n",
              "      <td>-1978.0</td>\n",
              "      <td>5204.0</td>\n",
              "    </tr>\n",
              "    <tr>\n",
              "      <th>11</th>\n",
              "      <td>12</td>\n",
              "      <td>dezembro</td>\n",
              "      <td>1919.0</td>\n",
              "      <td>21307.0</td>\n",
              "      <td>NaN</td>\n",
              "    </tr>\n",
              "  </tbody>\n",
              "</table>\n",
              "</div>\n",
              "      <button class=\"colab-df-convert\" onclick=\"convertToInteractive('df-887c6f6f-188f-4d36-8e6d-a27ad27037d2')\"\n",
              "              title=\"Convert this dataframe to an interactive table.\"\n",
              "              style=\"display:none;\">\n",
              "        \n",
              "  <svg xmlns=\"http://www.w3.org/2000/svg\" height=\"24px\"viewBox=\"0 0 24 24\"\n",
              "       width=\"24px\">\n",
              "    <path d=\"M0 0h24v24H0V0z\" fill=\"none\"/>\n",
              "    <path d=\"M18.56 5.44l.94 2.06.94-2.06 2.06-.94-2.06-.94-.94-2.06-.94 2.06-2.06.94zm-11 1L8.5 8.5l.94-2.06 2.06-.94-2.06-.94L8.5 2.5l-.94 2.06-2.06.94zm10 10l.94 2.06.94-2.06 2.06-.94-2.06-.94-.94-2.06-.94 2.06-2.06.94z\"/><path d=\"M17.41 7.96l-1.37-1.37c-.4-.4-.92-.59-1.43-.59-.52 0-1.04.2-1.43.59L10.3 9.45l-7.72 7.72c-.78.78-.78 2.05 0 2.83L4 21.41c.39.39.9.59 1.41.59.51 0 1.02-.2 1.41-.59l7.78-7.78 2.81-2.81c.8-.78.8-2.07 0-2.86zM5.41 20L4 18.59l7.72-7.72 1.47 1.35L5.41 20z\"/>\n",
              "  </svg>\n",
              "      </button>\n",
              "      \n",
              "  <style>\n",
              "    .colab-df-container {\n",
              "      display:flex;\n",
              "      flex-wrap:wrap;\n",
              "      gap: 12px;\n",
              "    }\n",
              "\n",
              "    .colab-df-convert {\n",
              "      background-color: #E8F0FE;\n",
              "      border: none;\n",
              "      border-radius: 50%;\n",
              "      cursor: pointer;\n",
              "      display: none;\n",
              "      fill: #1967D2;\n",
              "      height: 32px;\n",
              "      padding: 0 0 0 0;\n",
              "      width: 32px;\n",
              "    }\n",
              "\n",
              "    .colab-df-convert:hover {\n",
              "      background-color: #E2EBFA;\n",
              "      box-shadow: 0px 1px 2px rgba(60, 64, 67, 0.3), 0px 1px 3px 1px rgba(60, 64, 67, 0.15);\n",
              "      fill: #174EA6;\n",
              "    }\n",
              "\n",
              "    [theme=dark] .colab-df-convert {\n",
              "      background-color: #3B4455;\n",
              "      fill: #D2E3FC;\n",
              "    }\n",
              "\n",
              "    [theme=dark] .colab-df-convert:hover {\n",
              "      background-color: #434B5C;\n",
              "      box-shadow: 0px 1px 3px 1px rgba(0, 0, 0, 0.15);\n",
              "      filter: drop-shadow(0px 1px 2px rgba(0, 0, 0, 0.3));\n",
              "      fill: #FFFFFF;\n",
              "    }\n",
              "  </style>\n",
              "\n",
              "      <script>\n",
              "        const buttonEl =\n",
              "          document.querySelector('#df-887c6f6f-188f-4d36-8e6d-a27ad27037d2 button.colab-df-convert');\n",
              "        buttonEl.style.display =\n",
              "          google.colab.kernel.accessAllowed ? 'block' : 'none';\n",
              "\n",
              "        async function convertToInteractive(key) {\n",
              "          const element = document.querySelector('#df-887c6f6f-188f-4d36-8e6d-a27ad27037d2');\n",
              "          const dataTable =\n",
              "            await google.colab.kernel.invokeFunction('convertToInteractive',\n",
              "                                                     [key], {});\n",
              "          if (!dataTable) return;\n",
              "\n",
              "          const docLinkHtml = 'Like what you see? Visit the ' +\n",
              "            '<a target=\"_blank\" href=https://colab.research.google.com/notebooks/data_table.ipynb>data table notebook</a>'\n",
              "            + ' to learn more about interactive tables.';\n",
              "          element.innerHTML = '';\n",
              "          dataTable['output_type'] = 'display_data';\n",
              "          await google.colab.output.renderOutput(dataTable, element);\n",
              "          const docLink = document.createElement('div');\n",
              "          docLink.innerHTML = docLinkHtml;\n",
              "          element.appendChild(docLink);\n",
              "        }\n",
              "      </script>\n",
              "    </div>\n",
              "  </div>\n",
              "  "
            ]
          },
          "metadata": {},
          "execution_count": 16
        }
      ]
    },
    {
      "cell_type": "code",
      "source": [
        "diferenca_atendimentos_mes_ano.to_csv('diferenca_atendimentos_mes_ano.csv', index=False)"
      ],
      "metadata": {
        "id": "hgvh8vYG0e7q"
      },
      "execution_count": 17,
      "outputs": []
    },
    {
      "cell_type": "markdown",
      "source": [
        "### variação percentual entre os meses"
      ],
      "metadata": {
        "id": "8Cxj2w4lFxJC"
      }
    },
    {
      "cell_type": "code",
      "source": [
        "atendimentos_mes['mudanca_percentual'] = atendimentos_mes['quantidade'].pct_change()"
      ],
      "metadata": {
        "id": "NBFE5QLd9eXt"
      },
      "execution_count": 18,
      "outputs": []
    },
    {
      "cell_type": "code",
      "source": [
        "df_mudanca_percentual = atendimentos_mes.pivot(index=['mes', 'ds_mes'], columns='ano', values='mudanca_percentual').reset_index()"
      ],
      "metadata": {
        "id": "ttw9qEpX-kH2"
      },
      "execution_count": 19,
      "outputs": []
    },
    {
      "cell_type": "code",
      "source": [
        "df_mudanca_percentual.tail()"
      ],
      "metadata": {
        "colab": {
          "base_uri": "https://localhost:8080/",
          "height": 206
        },
        "id": "OHODDhzn22YD",
        "outputId": "caf54fab-7c09-4e8c-dba0-60996643afaf"
      },
      "execution_count": 20,
      "outputs": [
        {
          "output_type": "execute_result",
          "data": {
            "text/plain": [
              "ano mes    ds_mes      2020      2021      2022\n",
              "7    08    agosto -0.127273 -0.201457 -0.357910\n",
              "8    09  setembro -0.290712 -0.175632 -0.136547\n",
              "9    10   outubro  0.446637  0.083439 -0.163228\n",
              "10   11  novembro  0.484036 -0.232214  0.878906\n",
              "11   12  dezembro  0.200418  3.257951       NaN"
            ],
            "text/html": [
              "\n",
              "  <div id=\"df-79a02a37-61fd-4ad5-a5aa-ba0b633eaff1\">\n",
              "    <div class=\"colab-df-container\">\n",
              "      <div>\n",
              "<style scoped>\n",
              "    .dataframe tbody tr th:only-of-type {\n",
              "        vertical-align: middle;\n",
              "    }\n",
              "\n",
              "    .dataframe tbody tr th {\n",
              "        vertical-align: top;\n",
              "    }\n",
              "\n",
              "    .dataframe thead th {\n",
              "        text-align: right;\n",
              "    }\n",
              "</style>\n",
              "<table border=\"1\" class=\"dataframe\">\n",
              "  <thead>\n",
              "    <tr style=\"text-align: right;\">\n",
              "      <th>ano</th>\n",
              "      <th>mes</th>\n",
              "      <th>ds_mes</th>\n",
              "      <th>2020</th>\n",
              "      <th>2021</th>\n",
              "      <th>2022</th>\n",
              "    </tr>\n",
              "  </thead>\n",
              "  <tbody>\n",
              "    <tr>\n",
              "      <th>7</th>\n",
              "      <td>08</td>\n",
              "      <td>agosto</td>\n",
              "      <td>-0.127273</td>\n",
              "      <td>-0.201457</td>\n",
              "      <td>-0.357910</td>\n",
              "    </tr>\n",
              "    <tr>\n",
              "      <th>8</th>\n",
              "      <td>09</td>\n",
              "      <td>setembro</td>\n",
              "      <td>-0.290712</td>\n",
              "      <td>-0.175632</td>\n",
              "      <td>-0.136547</td>\n",
              "    </tr>\n",
              "    <tr>\n",
              "      <th>9</th>\n",
              "      <td>10</td>\n",
              "      <td>outubro</td>\n",
              "      <td>0.446637</td>\n",
              "      <td>0.083439</td>\n",
              "      <td>-0.163228</td>\n",
              "    </tr>\n",
              "    <tr>\n",
              "      <th>10</th>\n",
              "      <td>11</td>\n",
              "      <td>novembro</td>\n",
              "      <td>0.484036</td>\n",
              "      <td>-0.232214</td>\n",
              "      <td>0.878906</td>\n",
              "    </tr>\n",
              "    <tr>\n",
              "      <th>11</th>\n",
              "      <td>12</td>\n",
              "      <td>dezembro</td>\n",
              "      <td>0.200418</td>\n",
              "      <td>3.257951</td>\n",
              "      <td>NaN</td>\n",
              "    </tr>\n",
              "  </tbody>\n",
              "</table>\n",
              "</div>\n",
              "      <button class=\"colab-df-convert\" onclick=\"convertToInteractive('df-79a02a37-61fd-4ad5-a5aa-ba0b633eaff1')\"\n",
              "              title=\"Convert this dataframe to an interactive table.\"\n",
              "              style=\"display:none;\">\n",
              "        \n",
              "  <svg xmlns=\"http://www.w3.org/2000/svg\" height=\"24px\"viewBox=\"0 0 24 24\"\n",
              "       width=\"24px\">\n",
              "    <path d=\"M0 0h24v24H0V0z\" fill=\"none\"/>\n",
              "    <path d=\"M18.56 5.44l.94 2.06.94-2.06 2.06-.94-2.06-.94-.94-2.06-.94 2.06-2.06.94zm-11 1L8.5 8.5l.94-2.06 2.06-.94-2.06-.94L8.5 2.5l-.94 2.06-2.06.94zm10 10l.94 2.06.94-2.06 2.06-.94-2.06-.94-.94-2.06-.94 2.06-2.06.94z\"/><path d=\"M17.41 7.96l-1.37-1.37c-.4-.4-.92-.59-1.43-.59-.52 0-1.04.2-1.43.59L10.3 9.45l-7.72 7.72c-.78.78-.78 2.05 0 2.83L4 21.41c.39.39.9.59 1.41.59.51 0 1.02-.2 1.41-.59l7.78-7.78 2.81-2.81c.8-.78.8-2.07 0-2.86zM5.41 20L4 18.59l7.72-7.72 1.47 1.35L5.41 20z\"/>\n",
              "  </svg>\n",
              "      </button>\n",
              "      \n",
              "  <style>\n",
              "    .colab-df-container {\n",
              "      display:flex;\n",
              "      flex-wrap:wrap;\n",
              "      gap: 12px;\n",
              "    }\n",
              "\n",
              "    .colab-df-convert {\n",
              "      background-color: #E8F0FE;\n",
              "      border: none;\n",
              "      border-radius: 50%;\n",
              "      cursor: pointer;\n",
              "      display: none;\n",
              "      fill: #1967D2;\n",
              "      height: 32px;\n",
              "      padding: 0 0 0 0;\n",
              "      width: 32px;\n",
              "    }\n",
              "\n",
              "    .colab-df-convert:hover {\n",
              "      background-color: #E2EBFA;\n",
              "      box-shadow: 0px 1px 2px rgba(60, 64, 67, 0.3), 0px 1px 3px 1px rgba(60, 64, 67, 0.15);\n",
              "      fill: #174EA6;\n",
              "    }\n",
              "\n",
              "    [theme=dark] .colab-df-convert {\n",
              "      background-color: #3B4455;\n",
              "      fill: #D2E3FC;\n",
              "    }\n",
              "\n",
              "    [theme=dark] .colab-df-convert:hover {\n",
              "      background-color: #434B5C;\n",
              "      box-shadow: 0px 1px 3px 1px rgba(0, 0, 0, 0.15);\n",
              "      filter: drop-shadow(0px 1px 2px rgba(0, 0, 0, 0.3));\n",
              "      fill: #FFFFFF;\n",
              "    }\n",
              "  </style>\n",
              "\n",
              "      <script>\n",
              "        const buttonEl =\n",
              "          document.querySelector('#df-79a02a37-61fd-4ad5-a5aa-ba0b633eaff1 button.colab-df-convert');\n",
              "        buttonEl.style.display =\n",
              "          google.colab.kernel.accessAllowed ? 'block' : 'none';\n",
              "\n",
              "        async function convertToInteractive(key) {\n",
              "          const element = document.querySelector('#df-79a02a37-61fd-4ad5-a5aa-ba0b633eaff1');\n",
              "          const dataTable =\n",
              "            await google.colab.kernel.invokeFunction('convertToInteractive',\n",
              "                                                     [key], {});\n",
              "          if (!dataTable) return;\n",
              "\n",
              "          const docLinkHtml = 'Like what you see? Visit the ' +\n",
              "            '<a target=\"_blank\" href=https://colab.research.google.com/notebooks/data_table.ipynb>data table notebook</a>'\n",
              "            + ' to learn more about interactive tables.';\n",
              "          element.innerHTML = '';\n",
              "          dataTable['output_type'] = 'display_data';\n",
              "          await google.colab.output.renderOutput(dataTable, element);\n",
              "          const docLink = document.createElement('div');\n",
              "          docLink.innerHTML = docLinkHtml;\n",
              "          element.appendChild(docLink);\n",
              "        }\n",
              "      </script>\n",
              "    </div>\n",
              "  </div>\n",
              "  "
            ]
          },
          "metadata": {},
          "execution_count": 20
        }
      ]
    },
    {
      "cell_type": "code",
      "source": [
        "df_mudanca_percentual.to_csv('df_mudanca_percentual.csv', index=False)"
      ],
      "metadata": {
        "id": "S90rMhZCtld9"
      },
      "execution_count": 21,
      "outputs": []
    },
    {
      "cell_type": "markdown",
      "source": [
        "### atendimentos 2022"
      ],
      "metadata": {
        "id": "d7pQF12fGVsP"
      }
    },
    {
      "cell_type": "code",
      "source": [
        "atendimentos_2022 = atendimentos_mes[atendimentos_mes['ano'] == '2022']\n",
        "atendimentos_2022 = atendimentos_2022[['ds_mes', 'quantidade', 'diferenca_mes', 'mudanca_percentual']]\n",
        "atendimentos_2022.tail()"
      ],
      "metadata": {
        "colab": {
          "base_uri": "https://localhost:8080/",
          "height": 206
        },
        "id": "RAY546YhF38z",
        "outputId": "dce8e134-f5ed-4bc3-bcfe-65597dab03e4"
      },
      "execution_count": 22,
      "outputs": [
        {
          "output_type": "execute_result",
          "data": {
            "text/plain": [
              "      ds_mes  quantidade  diferenca_mes  mudanca_percentual\n",
              "20     julho       12763        -3594.0           -0.219722\n",
              "23    agosto        8195        -4568.0           -0.357910\n",
              "26  setembro        7076        -1119.0           -0.136547\n",
              "29   outubro        5921        -1155.0           -0.163228\n",
              "32  novembro       11125         5204.0            0.878906"
            ],
            "text/html": [
              "\n",
              "  <div id=\"df-538b7964-81e9-485a-ac47-ce47540a9c7f\">\n",
              "    <div class=\"colab-df-container\">\n",
              "      <div>\n",
              "<style scoped>\n",
              "    .dataframe tbody tr th:only-of-type {\n",
              "        vertical-align: middle;\n",
              "    }\n",
              "\n",
              "    .dataframe tbody tr th {\n",
              "        vertical-align: top;\n",
              "    }\n",
              "\n",
              "    .dataframe thead th {\n",
              "        text-align: right;\n",
              "    }\n",
              "</style>\n",
              "<table border=\"1\" class=\"dataframe\">\n",
              "  <thead>\n",
              "    <tr style=\"text-align: right;\">\n",
              "      <th></th>\n",
              "      <th>ds_mes</th>\n",
              "      <th>quantidade</th>\n",
              "      <th>diferenca_mes</th>\n",
              "      <th>mudanca_percentual</th>\n",
              "    </tr>\n",
              "  </thead>\n",
              "  <tbody>\n",
              "    <tr>\n",
              "      <th>20</th>\n",
              "      <td>julho</td>\n",
              "      <td>12763</td>\n",
              "      <td>-3594.0</td>\n",
              "      <td>-0.219722</td>\n",
              "    </tr>\n",
              "    <tr>\n",
              "      <th>23</th>\n",
              "      <td>agosto</td>\n",
              "      <td>8195</td>\n",
              "      <td>-4568.0</td>\n",
              "      <td>-0.357910</td>\n",
              "    </tr>\n",
              "    <tr>\n",
              "      <th>26</th>\n",
              "      <td>setembro</td>\n",
              "      <td>7076</td>\n",
              "      <td>-1119.0</td>\n",
              "      <td>-0.136547</td>\n",
              "    </tr>\n",
              "    <tr>\n",
              "      <th>29</th>\n",
              "      <td>outubro</td>\n",
              "      <td>5921</td>\n",
              "      <td>-1155.0</td>\n",
              "      <td>-0.163228</td>\n",
              "    </tr>\n",
              "    <tr>\n",
              "      <th>32</th>\n",
              "      <td>novembro</td>\n",
              "      <td>11125</td>\n",
              "      <td>5204.0</td>\n",
              "      <td>0.878906</td>\n",
              "    </tr>\n",
              "  </tbody>\n",
              "</table>\n",
              "</div>\n",
              "      <button class=\"colab-df-convert\" onclick=\"convertToInteractive('df-538b7964-81e9-485a-ac47-ce47540a9c7f')\"\n",
              "              title=\"Convert this dataframe to an interactive table.\"\n",
              "              style=\"display:none;\">\n",
              "        \n",
              "  <svg xmlns=\"http://www.w3.org/2000/svg\" height=\"24px\"viewBox=\"0 0 24 24\"\n",
              "       width=\"24px\">\n",
              "    <path d=\"M0 0h24v24H0V0z\" fill=\"none\"/>\n",
              "    <path d=\"M18.56 5.44l.94 2.06.94-2.06 2.06-.94-2.06-.94-.94-2.06-.94 2.06-2.06.94zm-11 1L8.5 8.5l.94-2.06 2.06-.94-2.06-.94L8.5 2.5l-.94 2.06-2.06.94zm10 10l.94 2.06.94-2.06 2.06-.94-2.06-.94-.94-2.06-.94 2.06-2.06.94z\"/><path d=\"M17.41 7.96l-1.37-1.37c-.4-.4-.92-.59-1.43-.59-.52 0-1.04.2-1.43.59L10.3 9.45l-7.72 7.72c-.78.78-.78 2.05 0 2.83L4 21.41c.39.39.9.59 1.41.59.51 0 1.02-.2 1.41-.59l7.78-7.78 2.81-2.81c.8-.78.8-2.07 0-2.86zM5.41 20L4 18.59l7.72-7.72 1.47 1.35L5.41 20z\"/>\n",
              "  </svg>\n",
              "      </button>\n",
              "      \n",
              "  <style>\n",
              "    .colab-df-container {\n",
              "      display:flex;\n",
              "      flex-wrap:wrap;\n",
              "      gap: 12px;\n",
              "    }\n",
              "\n",
              "    .colab-df-convert {\n",
              "      background-color: #E8F0FE;\n",
              "      border: none;\n",
              "      border-radius: 50%;\n",
              "      cursor: pointer;\n",
              "      display: none;\n",
              "      fill: #1967D2;\n",
              "      height: 32px;\n",
              "      padding: 0 0 0 0;\n",
              "      width: 32px;\n",
              "    }\n",
              "\n",
              "    .colab-df-convert:hover {\n",
              "      background-color: #E2EBFA;\n",
              "      box-shadow: 0px 1px 2px rgba(60, 64, 67, 0.3), 0px 1px 3px 1px rgba(60, 64, 67, 0.15);\n",
              "      fill: #174EA6;\n",
              "    }\n",
              "\n",
              "    [theme=dark] .colab-df-convert {\n",
              "      background-color: #3B4455;\n",
              "      fill: #D2E3FC;\n",
              "    }\n",
              "\n",
              "    [theme=dark] .colab-df-convert:hover {\n",
              "      background-color: #434B5C;\n",
              "      box-shadow: 0px 1px 3px 1px rgba(0, 0, 0, 0.15);\n",
              "      filter: drop-shadow(0px 1px 2px rgba(0, 0, 0, 0.3));\n",
              "      fill: #FFFFFF;\n",
              "    }\n",
              "  </style>\n",
              "\n",
              "      <script>\n",
              "        const buttonEl =\n",
              "          document.querySelector('#df-538b7964-81e9-485a-ac47-ce47540a9c7f button.colab-df-convert');\n",
              "        buttonEl.style.display =\n",
              "          google.colab.kernel.accessAllowed ? 'block' : 'none';\n",
              "\n",
              "        async function convertToInteractive(key) {\n",
              "          const element = document.querySelector('#df-538b7964-81e9-485a-ac47-ce47540a9c7f');\n",
              "          const dataTable =\n",
              "            await google.colab.kernel.invokeFunction('convertToInteractive',\n",
              "                                                     [key], {});\n",
              "          if (!dataTable) return;\n",
              "\n",
              "          const docLinkHtml = 'Like what you see? Visit the ' +\n",
              "            '<a target=\"_blank\" href=https://colab.research.google.com/notebooks/data_table.ipynb>data table notebook</a>'\n",
              "            + ' to learn more about interactive tables.';\n",
              "          element.innerHTML = '';\n",
              "          dataTable['output_type'] = 'display_data';\n",
              "          await google.colab.output.renderOutput(dataTable, element);\n",
              "          const docLink = document.createElement('div');\n",
              "          docLink.innerHTML = docLinkHtml;\n",
              "          element.appendChild(docLink);\n",
              "        }\n",
              "      </script>\n",
              "    </div>\n",
              "  </div>\n",
              "  "
            ]
          },
          "metadata": {},
          "execution_count": 22
        }
      ]
    },
    {
      "cell_type": "code",
      "source": [
        "atendimentos_2022.to_csv('atendimentos_2022.csv', index=False)"
      ],
      "metadata": {
        "id": "_vSZWWW_JJt6"
      },
      "execution_count": 23,
      "outputs": []
    },
    {
      "cell_type": "markdown",
      "source": [
        "# Classificação de risco"
      ],
      "metadata": {
        "id": "4kpGzLP2VnGa"
      }
    },
    {
      "cell_type": "code",
      "source": [
        "df_classificacao['nr_mes'] = df_classificacao['data'].str.split(pat='-', expand=True)[1]"
      ],
      "metadata": {
        "id": "cGz_QpByW1Sj"
      },
      "execution_count": 24,
      "outputs": []
    },
    {
      "cell_type": "code",
      "source": [
        "cores = {'BRANCO': 'OUTROS',\n",
        "         'AZUL': 'OUTROS',\n",
        "         'VERDE': 'VERDE',\n",
        "         'AMARELO': 'AMARELO',\n",
        "         'LARANJA': 'LARANJA',\n",
        "         'NAO CLASSIFICADO': 'OUTROS',\n",
        "         'VERMELHO': 'VERMELHO',\n",
        "         'PRETO': 'OUTROS'}"
      ],
      "metadata": {
        "id": "Y3or2CfbcPoa"
      },
      "execution_count": 25,
      "outputs": []
    },
    {
      "cell_type": "code",
      "source": [
        "df_classificacao['nova_classificacaoRisco'] = df_classificacao['classificacaoRisco'].replace(cores)"
      ],
      "metadata": {
        "id": "9wftR-F0deE_"
      },
      "execution_count": 26,
      "outputs": []
    },
    {
      "cell_type": "code",
      "source": [
        "df_classificacao_mes_ano = df_classificacao[['ano', 'nr_mes', 'nova_classificacaoRisco', 'quantidade']].groupby(['ano', 'nr_mes', 'nova_classificacaoRisco']).sum().reset_index()"
      ],
      "metadata": {
        "id": "CaY0kb6UVmRo"
      },
      "execution_count": 27,
      "outputs": []
    },
    {
      "cell_type": "code",
      "source": [
        "df_classificacao_mes_ano['ds_mes'] = df_classificacao_mes_ano['nr_mes'].replace(meses)"
      ],
      "metadata": {
        "id": "KAtaeUg9zsRi"
      },
      "execution_count": 28,
      "outputs": []
    },
    {
      "cell_type": "code",
      "source": [
        "df_classificacao_por_mes = df_classificacao_mes_ano.pivot(index=['ano', 'nr_mes', 'ds_mes'], columns='nova_classificacaoRisco', values='quantidade').reset_index().fillna(0)"
      ],
      "metadata": {
        "id": "azaC9MRHVouT"
      },
      "execution_count": 29,
      "outputs": []
    },
    {
      "cell_type": "code",
      "source": [
        "df_classificacao_por_mes.tail()"
      ],
      "metadata": {
        "colab": {
          "base_uri": "https://localhost:8080/",
          "height": 206
        },
        "id": "GcOSE_x0--mr",
        "outputId": "ce3521f1-8f75-48da-ba79-51f84170d7a0"
      },
      "execution_count": 30,
      "outputs": [
        {
          "output_type": "execute_result",
          "data": {
            "text/plain": [
              "nova_classificacaoRisco   ano nr_mes    ds_mes  AMARELO  LARANJA  OUTROS  \\\n",
              "30                       2022     07     julho     3360     1073     816   \n",
              "31                       2022     08    agosto     1959      822     485   \n",
              "32                       2022     09  setembro     1667      707     528   \n",
              "33                       2022     10   outubro     1478      755     444   \n",
              "34                       2022     11  novembro     2357      803     703   \n",
              "\n",
              "nova_classificacaoRisco  VERDE  VERMELHO  \n",
              "30                        7581        74  \n",
              "31                        4979        48  \n",
              "32                        4252        41  \n",
              "33                        3303        73  \n",
              "34                        7310        46  "
            ],
            "text/html": [
              "\n",
              "  <div id=\"df-9336bc93-7bcc-4b0a-919d-45e434d768af\">\n",
              "    <div class=\"colab-df-container\">\n",
              "      <div>\n",
              "<style scoped>\n",
              "    .dataframe tbody tr th:only-of-type {\n",
              "        vertical-align: middle;\n",
              "    }\n",
              "\n",
              "    .dataframe tbody tr th {\n",
              "        vertical-align: top;\n",
              "    }\n",
              "\n",
              "    .dataframe thead th {\n",
              "        text-align: right;\n",
              "    }\n",
              "</style>\n",
              "<table border=\"1\" class=\"dataframe\">\n",
              "  <thead>\n",
              "    <tr style=\"text-align: right;\">\n",
              "      <th>nova_classificacaoRisco</th>\n",
              "      <th>ano</th>\n",
              "      <th>nr_mes</th>\n",
              "      <th>ds_mes</th>\n",
              "      <th>AMARELO</th>\n",
              "      <th>LARANJA</th>\n",
              "      <th>OUTROS</th>\n",
              "      <th>VERDE</th>\n",
              "      <th>VERMELHO</th>\n",
              "    </tr>\n",
              "  </thead>\n",
              "  <tbody>\n",
              "    <tr>\n",
              "      <th>30</th>\n",
              "      <td>2022</td>\n",
              "      <td>07</td>\n",
              "      <td>julho</td>\n",
              "      <td>3360</td>\n",
              "      <td>1073</td>\n",
              "      <td>816</td>\n",
              "      <td>7581</td>\n",
              "      <td>74</td>\n",
              "    </tr>\n",
              "    <tr>\n",
              "      <th>31</th>\n",
              "      <td>2022</td>\n",
              "      <td>08</td>\n",
              "      <td>agosto</td>\n",
              "      <td>1959</td>\n",
              "      <td>822</td>\n",
              "      <td>485</td>\n",
              "      <td>4979</td>\n",
              "      <td>48</td>\n",
              "    </tr>\n",
              "    <tr>\n",
              "      <th>32</th>\n",
              "      <td>2022</td>\n",
              "      <td>09</td>\n",
              "      <td>setembro</td>\n",
              "      <td>1667</td>\n",
              "      <td>707</td>\n",
              "      <td>528</td>\n",
              "      <td>4252</td>\n",
              "      <td>41</td>\n",
              "    </tr>\n",
              "    <tr>\n",
              "      <th>33</th>\n",
              "      <td>2022</td>\n",
              "      <td>10</td>\n",
              "      <td>outubro</td>\n",
              "      <td>1478</td>\n",
              "      <td>755</td>\n",
              "      <td>444</td>\n",
              "      <td>3303</td>\n",
              "      <td>73</td>\n",
              "    </tr>\n",
              "    <tr>\n",
              "      <th>34</th>\n",
              "      <td>2022</td>\n",
              "      <td>11</td>\n",
              "      <td>novembro</td>\n",
              "      <td>2357</td>\n",
              "      <td>803</td>\n",
              "      <td>703</td>\n",
              "      <td>7310</td>\n",
              "      <td>46</td>\n",
              "    </tr>\n",
              "  </tbody>\n",
              "</table>\n",
              "</div>\n",
              "      <button class=\"colab-df-convert\" onclick=\"convertToInteractive('df-9336bc93-7bcc-4b0a-919d-45e434d768af')\"\n",
              "              title=\"Convert this dataframe to an interactive table.\"\n",
              "              style=\"display:none;\">\n",
              "        \n",
              "  <svg xmlns=\"http://www.w3.org/2000/svg\" height=\"24px\"viewBox=\"0 0 24 24\"\n",
              "       width=\"24px\">\n",
              "    <path d=\"M0 0h24v24H0V0z\" fill=\"none\"/>\n",
              "    <path d=\"M18.56 5.44l.94 2.06.94-2.06 2.06-.94-2.06-.94-.94-2.06-.94 2.06-2.06.94zm-11 1L8.5 8.5l.94-2.06 2.06-.94-2.06-.94L8.5 2.5l-.94 2.06-2.06.94zm10 10l.94 2.06.94-2.06 2.06-.94-2.06-.94-.94-2.06-.94 2.06-2.06.94z\"/><path d=\"M17.41 7.96l-1.37-1.37c-.4-.4-.92-.59-1.43-.59-.52 0-1.04.2-1.43.59L10.3 9.45l-7.72 7.72c-.78.78-.78 2.05 0 2.83L4 21.41c.39.39.9.59 1.41.59.51 0 1.02-.2 1.41-.59l7.78-7.78 2.81-2.81c.8-.78.8-2.07 0-2.86zM5.41 20L4 18.59l7.72-7.72 1.47 1.35L5.41 20z\"/>\n",
              "  </svg>\n",
              "      </button>\n",
              "      \n",
              "  <style>\n",
              "    .colab-df-container {\n",
              "      display:flex;\n",
              "      flex-wrap:wrap;\n",
              "      gap: 12px;\n",
              "    }\n",
              "\n",
              "    .colab-df-convert {\n",
              "      background-color: #E8F0FE;\n",
              "      border: none;\n",
              "      border-radius: 50%;\n",
              "      cursor: pointer;\n",
              "      display: none;\n",
              "      fill: #1967D2;\n",
              "      height: 32px;\n",
              "      padding: 0 0 0 0;\n",
              "      width: 32px;\n",
              "    }\n",
              "\n",
              "    .colab-df-convert:hover {\n",
              "      background-color: #E2EBFA;\n",
              "      box-shadow: 0px 1px 2px rgba(60, 64, 67, 0.3), 0px 1px 3px 1px rgba(60, 64, 67, 0.15);\n",
              "      fill: #174EA6;\n",
              "    }\n",
              "\n",
              "    [theme=dark] .colab-df-convert {\n",
              "      background-color: #3B4455;\n",
              "      fill: #D2E3FC;\n",
              "    }\n",
              "\n",
              "    [theme=dark] .colab-df-convert:hover {\n",
              "      background-color: #434B5C;\n",
              "      box-shadow: 0px 1px 3px 1px rgba(0, 0, 0, 0.15);\n",
              "      filter: drop-shadow(0px 1px 2px rgba(0, 0, 0, 0.3));\n",
              "      fill: #FFFFFF;\n",
              "    }\n",
              "  </style>\n",
              "\n",
              "      <script>\n",
              "        const buttonEl =\n",
              "          document.querySelector('#df-9336bc93-7bcc-4b0a-919d-45e434d768af button.colab-df-convert');\n",
              "        buttonEl.style.display =\n",
              "          google.colab.kernel.accessAllowed ? 'block' : 'none';\n",
              "\n",
              "        async function convertToInteractive(key) {\n",
              "          const element = document.querySelector('#df-9336bc93-7bcc-4b0a-919d-45e434d768af');\n",
              "          const dataTable =\n",
              "            await google.colab.kernel.invokeFunction('convertToInteractive',\n",
              "                                                     [key], {});\n",
              "          if (!dataTable) return;\n",
              "\n",
              "          const docLinkHtml = 'Like what you see? Visit the ' +\n",
              "            '<a target=\"_blank\" href=https://colab.research.google.com/notebooks/data_table.ipynb>data table notebook</a>'\n",
              "            + ' to learn more about interactive tables.';\n",
              "          element.innerHTML = '';\n",
              "          dataTable['output_type'] = 'display_data';\n",
              "          await google.colab.output.renderOutput(dataTable, element);\n",
              "          const docLink = document.createElement('div');\n",
              "          docLink.innerHTML = docLinkHtml;\n",
              "          element.appendChild(docLink);\n",
              "        }\n",
              "      </script>\n",
              "    </div>\n",
              "  </div>\n",
              "  "
            ]
          },
          "metadata": {},
          "execution_count": 30
        }
      ]
    },
    {
      "cell_type": "code",
      "source": [
        "df_classificacao_por_mes.to_csv('df_classificacao_por_mes.csv', index=False)"
      ],
      "metadata": {
        "id": "Nx1mFwwjWHsh"
      },
      "execution_count": 31,
      "outputs": []
    },
    {
      "cell_type": "code",
      "source": [
        "df_classificacao_por_mes = df_classificacao_por_mes.reset_index()"
      ],
      "metadata": {
        "id": "J8RzjbIj2UUG"
      },
      "execution_count": 32,
      "outputs": []
    },
    {
      "cell_type": "code",
      "source": [
        "df_classificacao_por_mes_pct_change = df_classificacao_por_mes[['AMARELO', 'LARANJA', 'OUTROS', 'VERDE', 'VERMELHO']].pct_change()\n",
        "df_classificacao_por_mes_pct_change = df_classificacao_por_mes_pct_change.apply(lambda x: round(x*100,2)).reset_index()\n",
        "df_classificacao_por_mes_pct_change = df_classificacao_por_mes_pct_change.rename(columns={\n",
        "    'AMARELO': 'PCT_AMARELO',\n",
        "    'LARANJA': 'PCT_LARANJA',\n",
        "    'OUTROS': 'PCT_OUTROS',\n",
        "    'VERDE': 'PCT_VERDE',\n",
        "    'VERMELHO': 'PCT_VERMELHO'\n",
        "})"
      ],
      "metadata": {
        "id": "5-fBdPSxYVFq"
      },
      "execution_count": 33,
      "outputs": []
    },
    {
      "cell_type": "code",
      "source": [
        "df_classificacao_por_mes_com_pct = df_classificacao_por_mes.merge(df_classificacao_por_mes_pct_change, on='index')"
      ],
      "metadata": {
        "id": "0pwPaRa52gWb"
      },
      "execution_count": 34,
      "outputs": []
    },
    {
      "cell_type": "code",
      "source": [
        "df_classificacao_por_mes_com_pct = df_classificacao_por_mes_com_pct[['ano', 'nr_mes', 'ds_mes', 'AMARELO', 'LARANJA', 'OUTROS', 'VERDE', 'VERMELHO', 'PCT_AMARELO', 'PCT_LARANJA', 'PCT_OUTROS', 'PCT_VERDE', 'PCT_VERMELHO']]"
      ],
      "metadata": {
        "id": "Cqb5AZP04PR6"
      },
      "execution_count": 35,
      "outputs": []
    },
    {
      "cell_type": "code",
      "source": [
        "df_classificacao_por_mes_com_pct.tail()"
      ],
      "metadata": {
        "colab": {
          "base_uri": "https://localhost:8080/",
          "height": 206
        },
        "id": "I6qULBzN_BXt",
        "outputId": "73c58c45-0128-4f23-8cac-616c5f272c3f"
      },
      "execution_count": 36,
      "outputs": [
        {
          "output_type": "execute_result",
          "data": {
            "text/plain": [
              "nova_classificacaoRisco   ano nr_mes    ds_mes  AMARELO  LARANJA  OUTROS  \\\n",
              "30                       2022     07     julho     3360     1073     816   \n",
              "31                       2022     08    agosto     1959      822     485   \n",
              "32                       2022     09  setembro     1667      707     528   \n",
              "33                       2022     10   outubro     1478      755     444   \n",
              "34                       2022     11  novembro     2357      803     703   \n",
              "\n",
              "nova_classificacaoRisco  VERDE  VERMELHO  PCT_AMARELO  PCT_LARANJA  \\\n",
              "30                        7581        74       -37.08       -40.59   \n",
              "31                        4979        48       -41.70       -23.39   \n",
              "32                        4252        41       -14.91       -13.99   \n",
              "33                        3303        73       -11.34         6.79   \n",
              "34                        7310        46        59.47         6.36   \n",
              "\n",
              "nova_classificacaoRisco  PCT_OUTROS  PCT_VERDE  PCT_VERMELHO  \n",
              "30                           -17.33      -8.73         39.62  \n",
              "31                           -40.56     -34.32        -35.14  \n",
              "32                             8.87     -14.60        -14.58  \n",
              "33                           -15.91     -22.32         78.05  \n",
              "34                            58.33     121.31        -36.99  "
            ],
            "text/html": [
              "\n",
              "  <div id=\"df-43ebcde2-a990-424e-a8f7-b9d5da55f7f7\">\n",
              "    <div class=\"colab-df-container\">\n",
              "      <div>\n",
              "<style scoped>\n",
              "    .dataframe tbody tr th:only-of-type {\n",
              "        vertical-align: middle;\n",
              "    }\n",
              "\n",
              "    .dataframe tbody tr th {\n",
              "        vertical-align: top;\n",
              "    }\n",
              "\n",
              "    .dataframe thead th {\n",
              "        text-align: right;\n",
              "    }\n",
              "</style>\n",
              "<table border=\"1\" class=\"dataframe\">\n",
              "  <thead>\n",
              "    <tr style=\"text-align: right;\">\n",
              "      <th>nova_classificacaoRisco</th>\n",
              "      <th>ano</th>\n",
              "      <th>nr_mes</th>\n",
              "      <th>ds_mes</th>\n",
              "      <th>AMARELO</th>\n",
              "      <th>LARANJA</th>\n",
              "      <th>OUTROS</th>\n",
              "      <th>VERDE</th>\n",
              "      <th>VERMELHO</th>\n",
              "      <th>PCT_AMARELO</th>\n",
              "      <th>PCT_LARANJA</th>\n",
              "      <th>PCT_OUTROS</th>\n",
              "      <th>PCT_VERDE</th>\n",
              "      <th>PCT_VERMELHO</th>\n",
              "    </tr>\n",
              "  </thead>\n",
              "  <tbody>\n",
              "    <tr>\n",
              "      <th>30</th>\n",
              "      <td>2022</td>\n",
              "      <td>07</td>\n",
              "      <td>julho</td>\n",
              "      <td>3360</td>\n",
              "      <td>1073</td>\n",
              "      <td>816</td>\n",
              "      <td>7581</td>\n",
              "      <td>74</td>\n",
              "      <td>-37.08</td>\n",
              "      <td>-40.59</td>\n",
              "      <td>-17.33</td>\n",
              "      <td>-8.73</td>\n",
              "      <td>39.62</td>\n",
              "    </tr>\n",
              "    <tr>\n",
              "      <th>31</th>\n",
              "      <td>2022</td>\n",
              "      <td>08</td>\n",
              "      <td>agosto</td>\n",
              "      <td>1959</td>\n",
              "      <td>822</td>\n",
              "      <td>485</td>\n",
              "      <td>4979</td>\n",
              "      <td>48</td>\n",
              "      <td>-41.70</td>\n",
              "      <td>-23.39</td>\n",
              "      <td>-40.56</td>\n",
              "      <td>-34.32</td>\n",
              "      <td>-35.14</td>\n",
              "    </tr>\n",
              "    <tr>\n",
              "      <th>32</th>\n",
              "      <td>2022</td>\n",
              "      <td>09</td>\n",
              "      <td>setembro</td>\n",
              "      <td>1667</td>\n",
              "      <td>707</td>\n",
              "      <td>528</td>\n",
              "      <td>4252</td>\n",
              "      <td>41</td>\n",
              "      <td>-14.91</td>\n",
              "      <td>-13.99</td>\n",
              "      <td>8.87</td>\n",
              "      <td>-14.60</td>\n",
              "      <td>-14.58</td>\n",
              "    </tr>\n",
              "    <tr>\n",
              "      <th>33</th>\n",
              "      <td>2022</td>\n",
              "      <td>10</td>\n",
              "      <td>outubro</td>\n",
              "      <td>1478</td>\n",
              "      <td>755</td>\n",
              "      <td>444</td>\n",
              "      <td>3303</td>\n",
              "      <td>73</td>\n",
              "      <td>-11.34</td>\n",
              "      <td>6.79</td>\n",
              "      <td>-15.91</td>\n",
              "      <td>-22.32</td>\n",
              "      <td>78.05</td>\n",
              "    </tr>\n",
              "    <tr>\n",
              "      <th>34</th>\n",
              "      <td>2022</td>\n",
              "      <td>11</td>\n",
              "      <td>novembro</td>\n",
              "      <td>2357</td>\n",
              "      <td>803</td>\n",
              "      <td>703</td>\n",
              "      <td>7310</td>\n",
              "      <td>46</td>\n",
              "      <td>59.47</td>\n",
              "      <td>6.36</td>\n",
              "      <td>58.33</td>\n",
              "      <td>121.31</td>\n",
              "      <td>-36.99</td>\n",
              "    </tr>\n",
              "  </tbody>\n",
              "</table>\n",
              "</div>\n",
              "      <button class=\"colab-df-convert\" onclick=\"convertToInteractive('df-43ebcde2-a990-424e-a8f7-b9d5da55f7f7')\"\n",
              "              title=\"Convert this dataframe to an interactive table.\"\n",
              "              style=\"display:none;\">\n",
              "        \n",
              "  <svg xmlns=\"http://www.w3.org/2000/svg\" height=\"24px\"viewBox=\"0 0 24 24\"\n",
              "       width=\"24px\">\n",
              "    <path d=\"M0 0h24v24H0V0z\" fill=\"none\"/>\n",
              "    <path d=\"M18.56 5.44l.94 2.06.94-2.06 2.06-.94-2.06-.94-.94-2.06-.94 2.06-2.06.94zm-11 1L8.5 8.5l.94-2.06 2.06-.94-2.06-.94L8.5 2.5l-.94 2.06-2.06.94zm10 10l.94 2.06.94-2.06 2.06-.94-2.06-.94-.94-2.06-.94 2.06-2.06.94z\"/><path d=\"M17.41 7.96l-1.37-1.37c-.4-.4-.92-.59-1.43-.59-.52 0-1.04.2-1.43.59L10.3 9.45l-7.72 7.72c-.78.78-.78 2.05 0 2.83L4 21.41c.39.39.9.59 1.41.59.51 0 1.02-.2 1.41-.59l7.78-7.78 2.81-2.81c.8-.78.8-2.07 0-2.86zM5.41 20L4 18.59l7.72-7.72 1.47 1.35L5.41 20z\"/>\n",
              "  </svg>\n",
              "      </button>\n",
              "      \n",
              "  <style>\n",
              "    .colab-df-container {\n",
              "      display:flex;\n",
              "      flex-wrap:wrap;\n",
              "      gap: 12px;\n",
              "    }\n",
              "\n",
              "    .colab-df-convert {\n",
              "      background-color: #E8F0FE;\n",
              "      border: none;\n",
              "      border-radius: 50%;\n",
              "      cursor: pointer;\n",
              "      display: none;\n",
              "      fill: #1967D2;\n",
              "      height: 32px;\n",
              "      padding: 0 0 0 0;\n",
              "      width: 32px;\n",
              "    }\n",
              "\n",
              "    .colab-df-convert:hover {\n",
              "      background-color: #E2EBFA;\n",
              "      box-shadow: 0px 1px 2px rgba(60, 64, 67, 0.3), 0px 1px 3px 1px rgba(60, 64, 67, 0.15);\n",
              "      fill: #174EA6;\n",
              "    }\n",
              "\n",
              "    [theme=dark] .colab-df-convert {\n",
              "      background-color: #3B4455;\n",
              "      fill: #D2E3FC;\n",
              "    }\n",
              "\n",
              "    [theme=dark] .colab-df-convert:hover {\n",
              "      background-color: #434B5C;\n",
              "      box-shadow: 0px 1px 3px 1px rgba(0, 0, 0, 0.15);\n",
              "      filter: drop-shadow(0px 1px 2px rgba(0, 0, 0, 0.3));\n",
              "      fill: #FFFFFF;\n",
              "    }\n",
              "  </style>\n",
              "\n",
              "      <script>\n",
              "        const buttonEl =\n",
              "          document.querySelector('#df-43ebcde2-a990-424e-a8f7-b9d5da55f7f7 button.colab-df-convert');\n",
              "        buttonEl.style.display =\n",
              "          google.colab.kernel.accessAllowed ? 'block' : 'none';\n",
              "\n",
              "        async function convertToInteractive(key) {\n",
              "          const element = document.querySelector('#df-43ebcde2-a990-424e-a8f7-b9d5da55f7f7');\n",
              "          const dataTable =\n",
              "            await google.colab.kernel.invokeFunction('convertToInteractive',\n",
              "                                                     [key], {});\n",
              "          if (!dataTable) return;\n",
              "\n",
              "          const docLinkHtml = 'Like what you see? Visit the ' +\n",
              "            '<a target=\"_blank\" href=https://colab.research.google.com/notebooks/data_table.ipynb>data table notebook</a>'\n",
              "            + ' to learn more about interactive tables.';\n",
              "          element.innerHTML = '';\n",
              "          dataTable['output_type'] = 'display_data';\n",
              "          await google.colab.output.renderOutput(dataTable, element);\n",
              "          const docLink = document.createElement('div');\n",
              "          docLink.innerHTML = docLinkHtml;\n",
              "          element.appendChild(docLink);\n",
              "        }\n",
              "      </script>\n",
              "    </div>\n",
              "  </div>\n",
              "  "
            ]
          },
          "metadata": {},
          "execution_count": 36
        }
      ]
    },
    {
      "cell_type": "code",
      "source": [
        "df_classificacao_por_mes_com_pct.to_csv('df_classificacao_por_mes_com_pct.csv', index=False)"
      ],
      "metadata": {
        "id": "OisoBw4s0Lfy"
      },
      "execution_count": 37,
      "outputs": []
    },
    {
      "cell_type": "code",
      "source": [],
      "metadata": {
        "id": "KeKC0a8T6a6n"
      },
      "execution_count": 37,
      "outputs": []
    }
  ]
}