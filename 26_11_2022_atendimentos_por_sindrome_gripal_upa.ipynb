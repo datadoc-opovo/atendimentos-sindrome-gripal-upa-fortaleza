{
 "cells": [
  {
   "cell_type": "markdown",
   "metadata": {
    "id": "AmTAOFow3WHr"
   },
   "source": [
    "# Após quatro meses de queda, atendimentos por síndrome gripal nas UPAs em novembro de 2022, até dia 26, quase dobram em relação a outubro\n",
    "### Quantidade de consultas teve aumento de 96,5% até o último domingo, 27. Ao todo, 67,6% dos atendimentos do mês tiveram classificação de risco verde, considerada pouco urgente\n",
    "\n",
    "---\n",
    "\n",
    "Este levantamento foi realizado a partir dos dados fornecidos pela API do IntegraSUS, plataforma da Secretaria da Saúde do Estado do Ceará (Sesa). Eles consideram informações das seguintes Unidades de Pronto Atendimento: 'UPA Autran Nunes', 'UPA Bom Jardim', 'UPA Canindezinho', 'UPA Conjunto Ceará', 'UPA Cristo Redentor', 'UPA Edson Queiroz', 'UPA Itaperi', 'UPA Jangurussu', 'UPA José Walter', 'UPA Messejana', 'UPA Praia Do Futuro', 'UPA Vila Velha'\n",
    "\n",
    "Em meio a novo crescimento dos casos de Covid-19 no Ceará, é relevante que a imprensa acompanhe os dados oficiais sobre a doença local e nacionalmente.\n"
   ]
  },
  {
   "cell_type": "code",
   "execution_count": 59,
   "metadata": {
    "id": "TxOa9ycJPfPY"
   },
   "outputs": [],
   "source": [
    "import pandas as pd\n",
    "from datetime import date"
   ]
  },
  {
   "cell_type": "code",
   "execution_count": 4,
   "metadata": {
    "id": "pMu9Xmp4PmUi"
   },
   "outputs": [],
   "source": [
    "atendimentos = 'https://integrasus.saude.ce.gov.br/api/acompanhamento-casos-upas/serie-historica-atendimentos?dataInicio=2020-01-01&dataFim=2022-11-26&tipo=&upa=&cid=&classificacaoRisco='"
   ]
  },
  {
   "cell_type": "code",
   "execution_count": 5,
   "metadata": {
    "id": "HUnReI6jVaiC"
   },
   "outputs": [],
   "source": [
    "classificacao_risco = 'https://integrasus.saude.ce.gov.br/api/acompanhamento-casos-upas/classificacao-risco?dataInicio=2020-01-01&dataFim=2022-11-26&tipo=&upa=&cid=&classificacaoRisco='"
   ]
  },
  {
   "cell_type": "code",
   "execution_count": 6,
   "metadata": {},
   "outputs": [],
   "source": [
    "unidades = 'https://integrasus.saude.ce.gov.br/api/acompanhamento-casos-upas/unidade?dataInicio=2020-01-01&dataFim=2022-11-27&tipo=&upa=&cid=&classificacaoRisco='"
   ]
  },
  {
   "cell_type": "code",
   "execution_count": 7,
   "metadata": {
    "id": "xicKeduCPtSg"
   },
   "outputs": [],
   "source": [
    "df_atendimentos = pd.read_json(atendimentos)\n",
    "df_classificacao = pd.read_json(classificacao_risco)\n",
    "df_unidades = pd.read_json(unidades)"
   ]
  },
  {
   "cell_type": "code",
   "execution_count": 8,
   "metadata": {
    "id": "JHEtdchO8Gze"
   },
   "outputs": [],
   "source": [
    "# salvar arquivos em csv\n",
    "df_atendimentos.to_csv('bases/originais/df_atendimentos.csv', index=False)\n",
    "df_classificacao.to_csv('bases/originais/df_classificacao.csv', index=False)\n",
    "df_unidades.to_csv('bases/originais/df_unidades.csv', index=False)"
   ]
  },
  {
   "cell_type": "markdown",
   "metadata": {
    "id": "lNflGrZYVjn0"
   },
   "source": [
    "# Atendimentos"
   ]
  },
  {
   "cell_type": "code",
   "execution_count": 9,
   "metadata": {
    "id": "fxF27ZLUP104"
   },
   "outputs": [],
   "source": [
    "df_atendimentos['dia'] = df_atendimentos['data'].str.split(pat='/', expand=True)[0]\n",
    "df_atendimentos['mes'] = df_atendimentos['data'].str.split(pat='/', expand=True)[1]\n",
    "df_atendimentos['ano'] = df_atendimentos['data'].str.split(pat='/', expand=True)[2]"
   ]
  },
  {
   "cell_type": "code",
   "execution_count": 10,
   "metadata": {
    "id": "KluZIswo179T"
   },
   "outputs": [],
   "source": [
    "meses = {\n",
    "    '01': 'janeiro',\n",
    "    '02': 'fevereiro',\n",
    "    '03': 'março',\n",
    "    '04': 'abril',\n",
    "    '05': 'maio',\n",
    "    '06': 'junho',\n",
    "    '07': 'julho',\n",
    "    '08': 'agosto',\n",
    "    '09': 'setembro',\n",
    "    '10': 'outubro',\n",
    "    '11': 'novembro',\n",
    "    '12': 'dezembro'\n",
    "}"
   ]
  },
  {
   "cell_type": "code",
   "execution_count": 11,
   "metadata": {
    "id": "tLyrTfE-9_67"
   },
   "outputs": [],
   "source": [
    "atendimentos_mes = df_atendimentos[['mes', 'ano', 'quantidade']].groupby(['mes', 'ano']).sum().reset_index().sort_values(['ano', 'mes'])\n",
    "atendimentos_mes['ds_mes'] = atendimentos_mes['mes'].replace(meses)"
   ]
  },
  {
   "cell_type": "code",
   "execution_count": 12,
   "metadata": {
    "colab": {
     "base_uri": "https://localhost:8080/",
     "height": 206
    },
    "id": "ciMMsSxfNUEV",
    "outputId": "08d7ad24-ffb0-49df-e1d0-4b6f92f3f1c1"
   },
   "outputs": [
    {
     "data": {
      "text/html": [
       "<div>\n",
       "<style scoped>\n",
       "    .dataframe tbody tr th:only-of-type {\n",
       "        vertical-align: middle;\n",
       "    }\n",
       "\n",
       "    .dataframe tbody tr th {\n",
       "        vertical-align: top;\n",
       "    }\n",
       "\n",
       "    .dataframe thead th {\n",
       "        text-align: right;\n",
       "    }\n",
       "</style>\n",
       "<table border=\"1\" class=\"dataframe\">\n",
       "  <thead>\n",
       "    <tr style=\"text-align: right;\">\n",
       "      <th></th>\n",
       "      <th>ano</th>\n",
       "      <th>mes</th>\n",
       "      <th>ds_mes</th>\n",
       "      <th>quantidade</th>\n",
       "    </tr>\n",
       "  </thead>\n",
       "  <tbody>\n",
       "    <tr>\n",
       "      <th>20</th>\n",
       "      <td>2022</td>\n",
       "      <td>07</td>\n",
       "      <td>julho</td>\n",
       "      <td>12763</td>\n",
       "    </tr>\n",
       "    <tr>\n",
       "      <th>23</th>\n",
       "      <td>2022</td>\n",
       "      <td>08</td>\n",
       "      <td>agosto</td>\n",
       "      <td>8195</td>\n",
       "    </tr>\n",
       "    <tr>\n",
       "      <th>26</th>\n",
       "      <td>2022</td>\n",
       "      <td>09</td>\n",
       "      <td>setembro</td>\n",
       "      <td>7076</td>\n",
       "    </tr>\n",
       "    <tr>\n",
       "      <th>29</th>\n",
       "      <td>2022</td>\n",
       "      <td>10</td>\n",
       "      <td>outubro</td>\n",
       "      <td>5921</td>\n",
       "    </tr>\n",
       "    <tr>\n",
       "      <th>32</th>\n",
       "      <td>2022</td>\n",
       "      <td>11</td>\n",
       "      <td>novembro</td>\n",
       "      <td>11638</td>\n",
       "    </tr>\n",
       "  </tbody>\n",
       "</table>\n",
       "</div>"
      ],
      "text/plain": [
       "     ano mes    ds_mes  quantidade\n",
       "20  2022  07     julho       12763\n",
       "23  2022  08    agosto        8195\n",
       "26  2022  09  setembro        7076\n",
       "29  2022  10   outubro        5921\n",
       "32  2022  11  novembro       11638"
      ]
     },
     "execution_count": 12,
     "metadata": {},
     "output_type": "execute_result"
    }
   ],
   "source": [
    "atendimentos_mes = atendimentos_mes[['ano', 'mes', 'ds_mes', 'quantidade']]\n",
    "atendimentos_mes.tail()"
   ]
  },
  {
   "cell_type": "code",
   "execution_count": 13,
   "metadata": {
    "id": "BdoUJX8-M9Tg"
   },
   "outputs": [],
   "source": [
    "atendimentos_mes.to_csv('bases/arquivos-gerados/atendimentos_mes.csv', index=False)"
   ]
  },
  {
   "cell_type": "markdown",
   "metadata": {
    "id": "ZdDjQHiTGb_h"
   },
   "source": [
    "### atendimento nos três anos"
   ]
  },
  {
   "cell_type": "code",
   "execution_count": 14,
   "metadata": {
    "id": "5TTGy0BE-Bri"
   },
   "outputs": [],
   "source": [
    "df_atendimentos_mes_ano = atendimentos_mes.pivot(index=['mes', 'ds_mes'], columns='ano', values='quantidade').reset_index()"
   ]
  },
  {
   "cell_type": "code",
   "execution_count": 15,
   "metadata": {
    "colab": {
     "base_uri": "https://localhost:8080/",
     "height": 206
    },
    "id": "8_v-I299Gk-y",
    "outputId": "ed69b517-eea7-4260-f04b-0816837cb0e4"
   },
   "outputs": [
    {
     "data": {
      "text/html": [
       "<div>\n",
       "<style scoped>\n",
       "    .dataframe tbody tr th:only-of-type {\n",
       "        vertical-align: middle;\n",
       "    }\n",
       "\n",
       "    .dataframe tbody tr th {\n",
       "        vertical-align: top;\n",
       "    }\n",
       "\n",
       "    .dataframe thead th {\n",
       "        text-align: right;\n",
       "    }\n",
       "</style>\n",
       "<table border=\"1\" class=\"dataframe\">\n",
       "  <thead>\n",
       "    <tr style=\"text-align: right;\">\n",
       "      <th>ano</th>\n",
       "      <th>mes</th>\n",
       "      <th>ds_mes</th>\n",
       "      <th>2020</th>\n",
       "      <th>2021</th>\n",
       "      <th>2022</th>\n",
       "    </tr>\n",
       "  </thead>\n",
       "  <tbody>\n",
       "    <tr>\n",
       "      <th>7</th>\n",
       "      <td>08</td>\n",
       "      <td>agosto</td>\n",
       "      <td>6288.0</td>\n",
       "      <td>9537.0</td>\n",
       "      <td>8195.0</td>\n",
       "    </tr>\n",
       "    <tr>\n",
       "      <th>8</th>\n",
       "      <td>09</td>\n",
       "      <td>setembro</td>\n",
       "      <td>4460.0</td>\n",
       "      <td>7862.0</td>\n",
       "      <td>7076.0</td>\n",
       "    </tr>\n",
       "    <tr>\n",
       "      <th>9</th>\n",
       "      <td>10</td>\n",
       "      <td>outubro</td>\n",
       "      <td>6452.0</td>\n",
       "      <td>8518.0</td>\n",
       "      <td>5921.0</td>\n",
       "    </tr>\n",
       "    <tr>\n",
       "      <th>10</th>\n",
       "      <td>11</td>\n",
       "      <td>novembro</td>\n",
       "      <td>9575.0</td>\n",
       "      <td>6540.0</td>\n",
       "      <td>11638.0</td>\n",
       "    </tr>\n",
       "    <tr>\n",
       "      <th>11</th>\n",
       "      <td>12</td>\n",
       "      <td>dezembro</td>\n",
       "      <td>11494.0</td>\n",
       "      <td>27847.0</td>\n",
       "      <td>NaN</td>\n",
       "    </tr>\n",
       "  </tbody>\n",
       "</table>\n",
       "</div>"
      ],
      "text/plain": [
       "ano mes    ds_mes     2020     2021     2022\n",
       "7    08    agosto   6288.0   9537.0   8195.0\n",
       "8    09  setembro   4460.0   7862.0   7076.0\n",
       "9    10   outubro   6452.0   8518.0   5921.0\n",
       "10   11  novembro   9575.0   6540.0  11638.0\n",
       "11   12  dezembro  11494.0  27847.0      NaN"
      ]
     },
     "execution_count": 15,
     "metadata": {},
     "output_type": "execute_result"
    }
   ],
   "source": [
    "df_atendimentos_mes_ano.tail()"
   ]
  },
  {
   "cell_type": "code",
   "execution_count": 16,
   "metadata": {
    "id": "Yv1rOOmJQJ_n"
   },
   "outputs": [],
   "source": [
    "df_atendimentos_mes_ano.to_csv('bases/arquivos-gerados/df_atendimentos_mes_ano.csv', index=False)"
   ]
  },
  {
   "cell_type": "markdown",
   "metadata": {
    "id": "_wks5H6lFuVl"
   },
   "source": [
    "### diferença entre os meses"
   ]
  },
  {
   "cell_type": "code",
   "execution_count": 17,
   "metadata": {
    "id": "BRIdJ0Kpymzc"
   },
   "outputs": [],
   "source": [
    "atendimentos_mes['diferenca_mes'] = atendimentos_mes['quantidade'].diff()"
   ]
  },
  {
   "cell_type": "code",
   "execution_count": 18,
   "metadata": {
    "id": "SgtLi5rI1Myf"
   },
   "outputs": [],
   "source": [
    "diferenca_atendimentos_mes_ano = atendimentos_mes.pivot(index=['mes', 'ds_mes'], columns='ano', values='diferenca_mes').reset_index()"
   ]
  },
  {
   "cell_type": "code",
   "execution_count": 19,
   "metadata": {
    "colab": {
     "base_uri": "https://localhost:8080/",
     "height": 206
    },
    "id": "qVryJizWHuT2",
    "outputId": "126a1fa2-5781-4959-f5cc-01669a3334b4"
   },
   "outputs": [
    {
     "data": {
      "text/html": [
       "<div>\n",
       "<style scoped>\n",
       "    .dataframe tbody tr th:only-of-type {\n",
       "        vertical-align: middle;\n",
       "    }\n",
       "\n",
       "    .dataframe tbody tr th {\n",
       "        vertical-align: top;\n",
       "    }\n",
       "\n",
       "    .dataframe thead th {\n",
       "        text-align: right;\n",
       "    }\n",
       "</style>\n",
       "<table border=\"1\" class=\"dataframe\">\n",
       "  <thead>\n",
       "    <tr style=\"text-align: right;\">\n",
       "      <th>ano</th>\n",
       "      <th>mes</th>\n",
       "      <th>ds_mes</th>\n",
       "      <th>2020</th>\n",
       "      <th>2021</th>\n",
       "      <th>2022</th>\n",
       "    </tr>\n",
       "  </thead>\n",
       "  <tbody>\n",
       "    <tr>\n",
       "      <th>7</th>\n",
       "      <td>08</td>\n",
       "      <td>agosto</td>\n",
       "      <td>-917.0</td>\n",
       "      <td>-2406.0</td>\n",
       "      <td>-4568.0</td>\n",
       "    </tr>\n",
       "    <tr>\n",
       "      <th>8</th>\n",
       "      <td>09</td>\n",
       "      <td>setembro</td>\n",
       "      <td>-1828.0</td>\n",
       "      <td>-1675.0</td>\n",
       "      <td>-1119.0</td>\n",
       "    </tr>\n",
       "    <tr>\n",
       "      <th>9</th>\n",
       "      <td>10</td>\n",
       "      <td>outubro</td>\n",
       "      <td>1992.0</td>\n",
       "      <td>656.0</td>\n",
       "      <td>-1155.0</td>\n",
       "    </tr>\n",
       "    <tr>\n",
       "      <th>10</th>\n",
       "      <td>11</td>\n",
       "      <td>novembro</td>\n",
       "      <td>3123.0</td>\n",
       "      <td>-1978.0</td>\n",
       "      <td>5717.0</td>\n",
       "    </tr>\n",
       "    <tr>\n",
       "      <th>11</th>\n",
       "      <td>12</td>\n",
       "      <td>dezembro</td>\n",
       "      <td>1919.0</td>\n",
       "      <td>21307.0</td>\n",
       "      <td>NaN</td>\n",
       "    </tr>\n",
       "  </tbody>\n",
       "</table>\n",
       "</div>"
      ],
      "text/plain": [
       "ano mes    ds_mes    2020     2021    2022\n",
       "7    08    agosto  -917.0  -2406.0 -4568.0\n",
       "8    09  setembro -1828.0  -1675.0 -1119.0\n",
       "9    10   outubro  1992.0    656.0 -1155.0\n",
       "10   11  novembro  3123.0  -1978.0  5717.0\n",
       "11   12  dezembro  1919.0  21307.0     NaN"
      ]
     },
     "execution_count": 19,
     "metadata": {},
     "output_type": "execute_result"
    }
   ],
   "source": [
    "diferenca_atendimentos_mes_ano.tail()"
   ]
  },
  {
   "cell_type": "code",
   "execution_count": 20,
   "metadata": {
    "id": "hgvh8vYG0e7q"
   },
   "outputs": [],
   "source": [
    "diferenca_atendimentos_mes_ano.to_csv('bases/arquivos-gerados/diferenca_atendimentos_mes_ano.csv', index=False)"
   ]
  },
  {
   "cell_type": "markdown",
   "metadata": {
    "id": "8Cxj2w4lFxJC"
   },
   "source": [
    "### variação percentual entre os meses"
   ]
  },
  {
   "cell_type": "code",
   "execution_count": 21,
   "metadata": {
    "id": "NBFE5QLd9eXt"
   },
   "outputs": [],
   "source": [
    "atendimentos_mes['mudanca_percentual'] = atendimentos_mes['quantidade'].pct_change()"
   ]
  },
  {
   "cell_type": "code",
   "execution_count": 22,
   "metadata": {
    "id": "ttw9qEpX-kH2"
   },
   "outputs": [],
   "source": [
    "df_mudanca_percentual = atendimentos_mes.pivot(index=['mes', 'ds_mes'], columns='ano', values='mudanca_percentual').reset_index()"
   ]
  },
  {
   "cell_type": "code",
   "execution_count": 23,
   "metadata": {
    "colab": {
     "base_uri": "https://localhost:8080/",
     "height": 206
    },
    "id": "OHODDhzn22YD",
    "outputId": "caf54fab-7c09-4e8c-dba0-60996643afaf"
   },
   "outputs": [
    {
     "data": {
      "text/html": [
       "<div>\n",
       "<style scoped>\n",
       "    .dataframe tbody tr th:only-of-type {\n",
       "        vertical-align: middle;\n",
       "    }\n",
       "\n",
       "    .dataframe tbody tr th {\n",
       "        vertical-align: top;\n",
       "    }\n",
       "\n",
       "    .dataframe thead th {\n",
       "        text-align: right;\n",
       "    }\n",
       "</style>\n",
       "<table border=\"1\" class=\"dataframe\">\n",
       "  <thead>\n",
       "    <tr style=\"text-align: right;\">\n",
       "      <th>ano</th>\n",
       "      <th>mes</th>\n",
       "      <th>ds_mes</th>\n",
       "      <th>2020</th>\n",
       "      <th>2021</th>\n",
       "      <th>2022</th>\n",
       "    </tr>\n",
       "  </thead>\n",
       "  <tbody>\n",
       "    <tr>\n",
       "      <th>7</th>\n",
       "      <td>08</td>\n",
       "      <td>agosto</td>\n",
       "      <td>-0.127273</td>\n",
       "      <td>-0.201457</td>\n",
       "      <td>-0.357910</td>\n",
       "    </tr>\n",
       "    <tr>\n",
       "      <th>8</th>\n",
       "      <td>09</td>\n",
       "      <td>setembro</td>\n",
       "      <td>-0.290712</td>\n",
       "      <td>-0.175632</td>\n",
       "      <td>-0.136547</td>\n",
       "    </tr>\n",
       "    <tr>\n",
       "      <th>9</th>\n",
       "      <td>10</td>\n",
       "      <td>outubro</td>\n",
       "      <td>0.446637</td>\n",
       "      <td>0.083439</td>\n",
       "      <td>-0.163228</td>\n",
       "    </tr>\n",
       "    <tr>\n",
       "      <th>10</th>\n",
       "      <td>11</td>\n",
       "      <td>novembro</td>\n",
       "      <td>0.484036</td>\n",
       "      <td>-0.232214</td>\n",
       "      <td>0.965546</td>\n",
       "    </tr>\n",
       "    <tr>\n",
       "      <th>11</th>\n",
       "      <td>12</td>\n",
       "      <td>dezembro</td>\n",
       "      <td>0.200418</td>\n",
       "      <td>3.257951</td>\n",
       "      <td>NaN</td>\n",
       "    </tr>\n",
       "  </tbody>\n",
       "</table>\n",
       "</div>"
      ],
      "text/plain": [
       "ano mes    ds_mes      2020      2021      2022\n",
       "7    08    agosto -0.127273 -0.201457 -0.357910\n",
       "8    09  setembro -0.290712 -0.175632 -0.136547\n",
       "9    10   outubro  0.446637  0.083439 -0.163228\n",
       "10   11  novembro  0.484036 -0.232214  0.965546\n",
       "11   12  dezembro  0.200418  3.257951       NaN"
      ]
     },
     "execution_count": 23,
     "metadata": {},
     "output_type": "execute_result"
    }
   ],
   "source": [
    "df_mudanca_percentual.tail()"
   ]
  },
  {
   "cell_type": "code",
   "execution_count": 24,
   "metadata": {
    "id": "S90rMhZCtld9"
   },
   "outputs": [],
   "source": [
    "df_mudanca_percentual.to_csv('bases/arquivos-gerados/df_mudanca_percentual.csv', index=False)"
   ]
  },
  {
   "cell_type": "markdown",
   "metadata": {
    "id": "d7pQF12fGVsP"
   },
   "source": [
    "### atendimentos 2022"
   ]
  },
  {
   "cell_type": "code",
   "execution_count": 25,
   "metadata": {
    "colab": {
     "base_uri": "https://localhost:8080/",
     "height": 206
    },
    "id": "RAY546YhF38z",
    "outputId": "dce8e134-f5ed-4bc3-bcfe-65597dab03e4"
   },
   "outputs": [
    {
     "data": {
      "text/html": [
       "<div>\n",
       "<style scoped>\n",
       "    .dataframe tbody tr th:only-of-type {\n",
       "        vertical-align: middle;\n",
       "    }\n",
       "\n",
       "    .dataframe tbody tr th {\n",
       "        vertical-align: top;\n",
       "    }\n",
       "\n",
       "    .dataframe thead th {\n",
       "        text-align: right;\n",
       "    }\n",
       "</style>\n",
       "<table border=\"1\" class=\"dataframe\">\n",
       "  <thead>\n",
       "    <tr style=\"text-align: right;\">\n",
       "      <th></th>\n",
       "      <th>ds_mes</th>\n",
       "      <th>quantidade</th>\n",
       "      <th>diferenca_mes</th>\n",
       "      <th>mudanca_percentual</th>\n",
       "    </tr>\n",
       "  </thead>\n",
       "  <tbody>\n",
       "    <tr>\n",
       "      <th>20</th>\n",
       "      <td>julho</td>\n",
       "      <td>12763</td>\n",
       "      <td>-3594.0</td>\n",
       "      <td>-0.219722</td>\n",
       "    </tr>\n",
       "    <tr>\n",
       "      <th>23</th>\n",
       "      <td>agosto</td>\n",
       "      <td>8195</td>\n",
       "      <td>-4568.0</td>\n",
       "      <td>-0.357910</td>\n",
       "    </tr>\n",
       "    <tr>\n",
       "      <th>26</th>\n",
       "      <td>setembro</td>\n",
       "      <td>7076</td>\n",
       "      <td>-1119.0</td>\n",
       "      <td>-0.136547</td>\n",
       "    </tr>\n",
       "    <tr>\n",
       "      <th>29</th>\n",
       "      <td>outubro</td>\n",
       "      <td>5921</td>\n",
       "      <td>-1155.0</td>\n",
       "      <td>-0.163228</td>\n",
       "    </tr>\n",
       "    <tr>\n",
       "      <th>32</th>\n",
       "      <td>novembro</td>\n",
       "      <td>11638</td>\n",
       "      <td>5717.0</td>\n",
       "      <td>0.965546</td>\n",
       "    </tr>\n",
       "  </tbody>\n",
       "</table>\n",
       "</div>"
      ],
      "text/plain": [
       "      ds_mes  quantidade  diferenca_mes  mudanca_percentual\n",
       "20     julho       12763        -3594.0           -0.219722\n",
       "23    agosto        8195        -4568.0           -0.357910\n",
       "26  setembro        7076        -1119.0           -0.136547\n",
       "29   outubro        5921        -1155.0           -0.163228\n",
       "32  novembro       11638         5717.0            0.965546"
      ]
     },
     "execution_count": 25,
     "metadata": {},
     "output_type": "execute_result"
    }
   ],
   "source": [
    "atendimentos_2022 = atendimentos_mes[atendimentos_mes['ano'] == '2022']\n",
    "atendimentos_2022 = atendimentos_2022[['ds_mes', 'quantidade', 'diferenca_mes', 'mudanca_percentual']]\n",
    "atendimentos_2022.tail()"
   ]
  },
  {
   "cell_type": "code",
   "execution_count": 26,
   "metadata": {
    "id": "_vSZWWW_JJt6"
   },
   "outputs": [],
   "source": [
    "atendimentos_2022.to_csv('bases/arquivos-gerados/atendimentos_2022.csv', index=False)"
   ]
  },
  {
   "cell_type": "code",
   "execution_count": 27,
   "metadata": {},
   "outputs": [],
   "source": [
    "df_atendimentos_22 = df_atendimentos[(df_atendimentos['ano'] == '2022')]\n",
    "df_atendimentos_out_nov_22 = df_atendimentos_22[(df_atendimentos_22['mes'] == '10') | (df_atendimentos_22['mes'] == '11')]"
   ]
  },
  {
   "cell_type": "code",
   "execution_count": 56,
   "metadata": {},
   "outputs": [],
   "source": [
    "df_atendimentos_out_nov_22 = df_atendimentos_out_nov_22[['data', 'quantidade']]"
   ]
  },
  {
   "cell_type": "code",
   "execution_count": 64,
   "metadata": {},
   "outputs": [],
   "source": [
    "df_atendimentos_out_nov_22['date'] = pd.to_datetime(df_atendimentos_out_nov_22['data'], format='%d/%m/%Y')"
   ]
  },
  {
   "cell_type": "code",
   "execution_count": 74,
   "metadata": {},
   "outputs": [
    {
     "name": "stdout",
     "output_type": "stream",
     "text": [
      "max: 315\n",
      "media: 206\n"
     ]
    }
   ],
   "source": [
    "print('max:', df_atendimentos_out_nov_22[df_atendimentos_out_nov_22['date'] < '2022-11-13']['quantidade'].max())\n",
    "print('media:', round(df_atendimentos_out_nov_22[df_atendimentos_out_nov_22['date'] < '2022-11-13']['quantidade'].mean()))"
   ]
  },
  {
   "cell_type": "code",
   "execution_count": 79,
   "metadata": {},
   "outputs": [
    {
     "name": "stdout",
     "output_type": "stream",
     "text": [
      "max: 1017\n",
      "media: 418\n"
     ]
    }
   ],
   "source": [
    "print('max:', df_atendimentos_out_nov_22[df_atendimentos_out_nov_22['data'] >= '2022-11-13']['quantidade'].max())\n",
    "print('media:', round(df_atendimentos_out_nov_22[df_atendimentos_out_nov_22['data'] >= '2022-11-13']['quantidade'].mean()))"
   ]
  },
  {
   "cell_type": "code",
   "execution_count": 31,
   "metadata": {},
   "outputs": [],
   "source": [
    "df_atendimentos_out_nov_22.to_csv('bases/arquivos-gerados/df_atendimentos_out_nov_22.csv', index=False)"
   ]
  },
  {
   "cell_type": "markdown",
   "metadata": {
    "id": "4kpGzLP2VnGa"
   },
   "source": [
    "# Classificação de risco"
   ]
  },
  {
   "cell_type": "code",
   "execution_count": 32,
   "metadata": {
    "id": "cGz_QpByW1Sj"
   },
   "outputs": [],
   "source": [
    "df_classificacao['nr_mes'] = df_classificacao['data'].str.split(pat='-', expand=True)[1]"
   ]
  },
  {
   "cell_type": "code",
   "execution_count": 33,
   "metadata": {
    "id": "Y3or2CfbcPoa"
   },
   "outputs": [],
   "source": [
    "cores = {'BRANCO': 'OUTROS',\n",
    "         'AZUL': 'OUTROS',\n",
    "         'VERDE': 'VERDE',\n",
    "         'AMARELO': 'AMARELO',\n",
    "         'LARANJA': 'LARANJA',\n",
    "         'NAO CLASSIFICADO': 'OUTROS',\n",
    "         'VERMELHO': 'VERMELHO',\n",
    "         'PRETO': 'OUTROS'}"
   ]
  },
  {
   "cell_type": "code",
   "execution_count": 34,
   "metadata": {
    "id": "9wftR-F0deE_"
   },
   "outputs": [],
   "source": [
    "df_classificacao['nova_classificacaoRisco'] = df_classificacao['classificacaoRisco'].replace(cores)"
   ]
  },
  {
   "cell_type": "code",
   "execution_count": 35,
   "metadata": {
    "id": "CaY0kb6UVmRo"
   },
   "outputs": [],
   "source": [
    "df_classificacao_mes_ano = df_classificacao[['ano', 'nr_mes', 'nova_classificacaoRisco', 'quantidade']].groupby(['ano', 'nr_mes', 'nova_classificacaoRisco']).sum().reset_index()"
   ]
  },
  {
   "cell_type": "code",
   "execution_count": 36,
   "metadata": {
    "id": "KAtaeUg9zsRi"
   },
   "outputs": [],
   "source": [
    "df_classificacao_mes_ano['ds_mes'] = df_classificacao_mes_ano['nr_mes'].replace(meses)"
   ]
  },
  {
   "cell_type": "code",
   "execution_count": 37,
   "metadata": {
    "id": "azaC9MRHVouT"
   },
   "outputs": [],
   "source": [
    "df_classificacao_por_mes = df_classificacao_mes_ano.pivot(index=['ano', 'nr_mes', 'ds_mes'], columns='nova_classificacaoRisco', values='quantidade').reset_index().fillna(0)"
   ]
  },
  {
   "cell_type": "code",
   "execution_count": 38,
   "metadata": {
    "colab": {
     "base_uri": "https://localhost:8080/",
     "height": 206
    },
    "id": "GcOSE_x0--mr",
    "outputId": "ce3521f1-8f75-48da-ba79-51f84170d7a0"
   },
   "outputs": [
    {
     "data": {
      "text/html": [
       "<div>\n",
       "<style scoped>\n",
       "    .dataframe tbody tr th:only-of-type {\n",
       "        vertical-align: middle;\n",
       "    }\n",
       "\n",
       "    .dataframe tbody tr th {\n",
       "        vertical-align: top;\n",
       "    }\n",
       "\n",
       "    .dataframe thead th {\n",
       "        text-align: right;\n",
       "    }\n",
       "</style>\n",
       "<table border=\"1\" class=\"dataframe\">\n",
       "  <thead>\n",
       "    <tr style=\"text-align: right;\">\n",
       "      <th>nova_classificacaoRisco</th>\n",
       "      <th>ano</th>\n",
       "      <th>nr_mes</th>\n",
       "      <th>ds_mes</th>\n",
       "      <th>AMARELO</th>\n",
       "      <th>LARANJA</th>\n",
       "      <th>OUTROS</th>\n",
       "      <th>VERDE</th>\n",
       "      <th>VERMELHO</th>\n",
       "    </tr>\n",
       "  </thead>\n",
       "  <tbody>\n",
       "    <tr>\n",
       "      <th>30</th>\n",
       "      <td>2022</td>\n",
       "      <td>07</td>\n",
       "      <td>julho</td>\n",
       "      <td>3360</td>\n",
       "      <td>1073</td>\n",
       "      <td>816</td>\n",
       "      <td>7581</td>\n",
       "      <td>74</td>\n",
       "    </tr>\n",
       "    <tr>\n",
       "      <th>31</th>\n",
       "      <td>2022</td>\n",
       "      <td>08</td>\n",
       "      <td>agosto</td>\n",
       "      <td>1959</td>\n",
       "      <td>822</td>\n",
       "      <td>485</td>\n",
       "      <td>4979</td>\n",
       "      <td>48</td>\n",
       "    </tr>\n",
       "    <tr>\n",
       "      <th>32</th>\n",
       "      <td>2022</td>\n",
       "      <td>09</td>\n",
       "      <td>setembro</td>\n",
       "      <td>1667</td>\n",
       "      <td>707</td>\n",
       "      <td>528</td>\n",
       "      <td>4252</td>\n",
       "      <td>41</td>\n",
       "    </tr>\n",
       "    <tr>\n",
       "      <th>33</th>\n",
       "      <td>2022</td>\n",
       "      <td>10</td>\n",
       "      <td>outubro</td>\n",
       "      <td>1478</td>\n",
       "      <td>755</td>\n",
       "      <td>444</td>\n",
       "      <td>3303</td>\n",
       "      <td>73</td>\n",
       "    </tr>\n",
       "    <tr>\n",
       "      <th>34</th>\n",
       "      <td>2022</td>\n",
       "      <td>11</td>\n",
       "      <td>novembro</td>\n",
       "      <td>2440</td>\n",
       "      <td>844</td>\n",
       "      <td>749</td>\n",
       "      <td>7654</td>\n",
       "      <td>49</td>\n",
       "    </tr>\n",
       "  </tbody>\n",
       "</table>\n",
       "</div>"
      ],
      "text/plain": [
       "nova_classificacaoRisco   ano nr_mes    ds_mes  AMARELO  LARANJA  OUTROS  \\\n",
       "30                       2022     07     julho     3360     1073     816   \n",
       "31                       2022     08    agosto     1959      822     485   \n",
       "32                       2022     09  setembro     1667      707     528   \n",
       "33                       2022     10   outubro     1478      755     444   \n",
       "34                       2022     11  novembro     2440      844     749   \n",
       "\n",
       "nova_classificacaoRisco  VERDE  VERMELHO  \n",
       "30                        7581        74  \n",
       "31                        4979        48  \n",
       "32                        4252        41  \n",
       "33                        3303        73  \n",
       "34                        7654        49  "
      ]
     },
     "execution_count": 38,
     "metadata": {},
     "output_type": "execute_result"
    }
   ],
   "source": [
    "df_classificacao_por_mes.tail()"
   ]
  },
  {
   "cell_type": "code",
   "execution_count": 39,
   "metadata": {
    "id": "Nx1mFwwjWHsh"
   },
   "outputs": [],
   "source": [
    "df_classificacao_por_mes.to_csv('bases/arquivos-gerados/df_classificacao_por_mes.csv', index=False)"
   ]
  },
  {
   "cell_type": "code",
   "execution_count": 40,
   "metadata": {
    "id": "J8RzjbIj2UUG"
   },
   "outputs": [],
   "source": [
    "df_classificacao_por_mes = df_classificacao_por_mes.reset_index()"
   ]
  },
  {
   "cell_type": "code",
   "execution_count": 41,
   "metadata": {
    "id": "5-fBdPSxYVFq"
   },
   "outputs": [],
   "source": [
    "df_classificacao_por_mes_pct_change = df_classificacao_por_mes[['AMARELO', 'LARANJA', 'OUTROS', 'VERDE', 'VERMELHO']].pct_change()\n",
    "df_classificacao_por_mes_pct_change = df_classificacao_por_mes_pct_change.apply(lambda x: round(x*100,2)).reset_index()\n",
    "df_classificacao_por_mes_pct_change = df_classificacao_por_mes_pct_change.rename(columns={\n",
    "    'AMARELO': 'PCT_AMARELO',\n",
    "    'LARANJA': 'PCT_LARANJA',\n",
    "    'OUTROS': 'PCT_OUTROS',\n",
    "    'VERDE': 'PCT_VERDE',\n",
    "    'VERMELHO': 'PCT_VERMELHO'\n",
    "})"
   ]
  },
  {
   "cell_type": "code",
   "execution_count": 42,
   "metadata": {
    "id": "0pwPaRa52gWb"
   },
   "outputs": [],
   "source": [
    "df_classificacao_por_mes_com_pct = df_classificacao_por_mes.merge(df_classificacao_por_mes_pct_change, on='index')"
   ]
  },
  {
   "cell_type": "code",
   "execution_count": 43,
   "metadata": {
    "id": "Cqb5AZP04PR6"
   },
   "outputs": [],
   "source": [
    "df_classificacao_por_mes_com_pct = df_classificacao_por_mes_com_pct[['ano', 'nr_mes', 'ds_mes', 'AMARELO', 'LARANJA', 'OUTROS', 'VERDE', 'VERMELHO', 'PCT_AMARELO', 'PCT_LARANJA', 'PCT_OUTROS', 'PCT_VERDE', 'PCT_VERMELHO']]"
   ]
  },
  {
   "cell_type": "code",
   "execution_count": 44,
   "metadata": {
    "colab": {
     "base_uri": "https://localhost:8080/",
     "height": 206
    },
    "id": "I6qULBzN_BXt",
    "outputId": "73c58c45-0128-4f23-8cac-616c5f272c3f"
   },
   "outputs": [
    {
     "data": {
      "text/html": [
       "<div>\n",
       "<style scoped>\n",
       "    .dataframe tbody tr th:only-of-type {\n",
       "        vertical-align: middle;\n",
       "    }\n",
       "\n",
       "    .dataframe tbody tr th {\n",
       "        vertical-align: top;\n",
       "    }\n",
       "\n",
       "    .dataframe thead th {\n",
       "        text-align: right;\n",
       "    }\n",
       "</style>\n",
       "<table border=\"1\" class=\"dataframe\">\n",
       "  <thead>\n",
       "    <tr style=\"text-align: right;\">\n",
       "      <th>nova_classificacaoRisco</th>\n",
       "      <th>ano</th>\n",
       "      <th>nr_mes</th>\n",
       "      <th>ds_mes</th>\n",
       "      <th>AMARELO</th>\n",
       "      <th>LARANJA</th>\n",
       "      <th>OUTROS</th>\n",
       "      <th>VERDE</th>\n",
       "      <th>VERMELHO</th>\n",
       "      <th>PCT_AMARELO</th>\n",
       "      <th>PCT_LARANJA</th>\n",
       "      <th>PCT_OUTROS</th>\n",
       "      <th>PCT_VERDE</th>\n",
       "      <th>PCT_VERMELHO</th>\n",
       "    </tr>\n",
       "  </thead>\n",
       "  <tbody>\n",
       "    <tr>\n",
       "      <th>30</th>\n",
       "      <td>2022</td>\n",
       "      <td>07</td>\n",
       "      <td>julho</td>\n",
       "      <td>3360</td>\n",
       "      <td>1073</td>\n",
       "      <td>816</td>\n",
       "      <td>7581</td>\n",
       "      <td>74</td>\n",
       "      <td>-37.08</td>\n",
       "      <td>-40.59</td>\n",
       "      <td>-17.33</td>\n",
       "      <td>-8.73</td>\n",
       "      <td>39.62</td>\n",
       "    </tr>\n",
       "    <tr>\n",
       "      <th>31</th>\n",
       "      <td>2022</td>\n",
       "      <td>08</td>\n",
       "      <td>agosto</td>\n",
       "      <td>1959</td>\n",
       "      <td>822</td>\n",
       "      <td>485</td>\n",
       "      <td>4979</td>\n",
       "      <td>48</td>\n",
       "      <td>-41.70</td>\n",
       "      <td>-23.39</td>\n",
       "      <td>-40.56</td>\n",
       "      <td>-34.32</td>\n",
       "      <td>-35.14</td>\n",
       "    </tr>\n",
       "    <tr>\n",
       "      <th>32</th>\n",
       "      <td>2022</td>\n",
       "      <td>09</td>\n",
       "      <td>setembro</td>\n",
       "      <td>1667</td>\n",
       "      <td>707</td>\n",
       "      <td>528</td>\n",
       "      <td>4252</td>\n",
       "      <td>41</td>\n",
       "      <td>-14.91</td>\n",
       "      <td>-13.99</td>\n",
       "      <td>8.87</td>\n",
       "      <td>-14.60</td>\n",
       "      <td>-14.58</td>\n",
       "    </tr>\n",
       "    <tr>\n",
       "      <th>33</th>\n",
       "      <td>2022</td>\n",
       "      <td>10</td>\n",
       "      <td>outubro</td>\n",
       "      <td>1478</td>\n",
       "      <td>755</td>\n",
       "      <td>444</td>\n",
       "      <td>3303</td>\n",
       "      <td>73</td>\n",
       "      <td>-11.34</td>\n",
       "      <td>6.79</td>\n",
       "      <td>-15.91</td>\n",
       "      <td>-22.32</td>\n",
       "      <td>78.05</td>\n",
       "    </tr>\n",
       "    <tr>\n",
       "      <th>34</th>\n",
       "      <td>2022</td>\n",
       "      <td>11</td>\n",
       "      <td>novembro</td>\n",
       "      <td>2440</td>\n",
       "      <td>844</td>\n",
       "      <td>749</td>\n",
       "      <td>7654</td>\n",
       "      <td>49</td>\n",
       "      <td>65.09</td>\n",
       "      <td>11.79</td>\n",
       "      <td>68.69</td>\n",
       "      <td>131.73</td>\n",
       "      <td>-32.88</td>\n",
       "    </tr>\n",
       "  </tbody>\n",
       "</table>\n",
       "</div>"
      ],
      "text/plain": [
       "nova_classificacaoRisco   ano nr_mes    ds_mes  AMARELO  LARANJA  OUTROS  \\\n",
       "30                       2022     07     julho     3360     1073     816   \n",
       "31                       2022     08    agosto     1959      822     485   \n",
       "32                       2022     09  setembro     1667      707     528   \n",
       "33                       2022     10   outubro     1478      755     444   \n",
       "34                       2022     11  novembro     2440      844     749   \n",
       "\n",
       "nova_classificacaoRisco  VERDE  VERMELHO  PCT_AMARELO  PCT_LARANJA  \\\n",
       "30                        7581        74       -37.08       -40.59   \n",
       "31                        4979        48       -41.70       -23.39   \n",
       "32                        4252        41       -14.91       -13.99   \n",
       "33                        3303        73       -11.34         6.79   \n",
       "34                        7654        49        65.09        11.79   \n",
       "\n",
       "nova_classificacaoRisco  PCT_OUTROS  PCT_VERDE  PCT_VERMELHO  \n",
       "30                           -17.33      -8.73         39.62  \n",
       "31                           -40.56     -34.32        -35.14  \n",
       "32                             8.87     -14.60        -14.58  \n",
       "33                           -15.91     -22.32         78.05  \n",
       "34                            68.69     131.73        -32.88  "
      ]
     },
     "execution_count": 44,
     "metadata": {},
     "output_type": "execute_result"
    }
   ],
   "source": [
    "df_classificacao_por_mes_com_pct.tail()"
   ]
  },
  {
   "cell_type": "code",
   "execution_count": 45,
   "metadata": {
    "id": "OisoBw4s0Lfy"
   },
   "outputs": [],
   "source": [
    "df_classificacao_por_mes_com_pct.to_csv('bases/arquivos-gerados/df_classificacao_por_mes_com_pct.csv', index=False)"
   ]
  }
 ],
 "metadata": {
  "colab": {
   "collapsed_sections": [
    "lNflGrZYVjn0"
   ],
   "provenance": []
  },
  "kernelspec": {
   "display_name": "Python 3 (ipykernel)",
   "language": "python",
   "name": "python3"
  },
  "language_info": {
   "codemirror_mode": {
    "name": "ipython",
    "version": 3
   },
   "file_extension": ".py",
   "mimetype": "text/x-python",
   "name": "python",
   "nbconvert_exporter": "python",
   "pygments_lexer": "ipython3",
   "version": "3.9.7"
  }
 },
 "nbformat": 4,
 "nbformat_minor": 1
}
